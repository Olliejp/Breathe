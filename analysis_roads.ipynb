{
 "cells": [
  {
   "cell_type": "code",
   "execution_count": null,
   "metadata": {},
   "outputs": [],
   "source": [
    "## Data Manipulation\n",
    "import pandas as pd\n",
    "import numpy as np\n",
    "\n",
    "## Scraping\n",
    "import requests\n",
    "\n",
    "## Plotting\n",
    "import matplotlib.dates as mdates\n",
    "import matplotlib.pyplot as plt\n",
    "import seaborn as sns\n",
    "\n",
    "## Spatial Manipulation\n",
    "import geopandas as gpd\n",
    "from shapely.geometry import Point\n",
    "\n",
    "## Mapping\n",
    "import folium\n",
    "from folium import plugins\n",
    "\n",
    "## Misc\n",
    "import functools\n",
    "from itertools import product\n",
    "import contextily as ctx\n",
    "\n",
    "pd.options.display.max_columns = None\n",
    "from matplotlib.lines import Line2D \n",
    "\n",
    "from scipy.stats.stats import pearsonr"
   ]
  },
  {
   "cell_type": "code",
   "execution_count": null,
   "metadata": {},
   "outputs": [],
   "source": [
    "df = pd.read_csv(\"pm_no_clean.csv\", index_col=0)"
   ]
  },
  {
   "cell_type": "code",
   "execution_count": null,
   "metadata": {},
   "outputs": [],
   "source": [
    "df = df.drop_duplicates(subset=['pod_id_location'])"
   ]
  },
  {
   "cell_type": "code",
   "execution_count": null,
   "metadata": {},
   "outputs": [],
   "source": [
    "#turning df into GIS file\n",
    "geometry = [Point(xy) for xy in zip(df.Longitude, df.Latitude)]\n",
    "crs = {'init': 'epsg:4326'}\n",
    "gdf = gpd.GeoDataFrame(df, crs = crs, geometry=geometry)\n",
    "gdf = gdf.to_crs({'init': 'epsg:3857'})"
   ]
  },
  {
   "cell_type": "code",
   "execution_count": null,
   "metadata": {},
   "outputs": [],
   "source": [
    "#loading gis road network\n",
    "path = \"/Users/oliverpaul/Data_Science/EDF/LAEI GIS - traffic/SHP/LAEI2016_AADT_VKM_toid.shp\"\n",
    "roads = gpd.read_file(path)\n",
    "roads['VKMTOTAL16'] = roads['VKMTOTAL16'].str.replace(',', '')\n",
    "roads['VKMTOTAL16'] = roads['VKMTOTAL16'].replace('-', np.nan)"
   ]
  },
  {
   "cell_type": "code",
   "execution_count": null,
   "metadata": {},
   "outputs": [],
   "source": [
    "roads['VKMTOTAL16'] = pd.to_numeric(roads['VKMTOTAL16'], errors='coerce')\n",
    "roads = roads.dropna(subset=['VKMTOTAL16'])\n",
    "roads['VKMTOTAL16'] = roads['VKMTOTAL16'].astype(int)"
   ]
  },
  {
   "cell_type": "code",
   "execution_count": null,
   "metadata": {},
   "outputs": [],
   "source": [
    "#filtering roads dataset for only major roads - motorway or A Road\n",
    "roads = roads[(roads['DESC_TERM'] == \"Motorway\") | (roads['DESC_TERM'] == \"A Road\")]"
   ]
  },
  {
   "cell_type": "code",
   "execution_count": null,
   "metadata": {},
   "outputs": [],
   "source": [
    "roads = roads.to_crs({'init': 'epsg:3857'})"
   ]
  },
  {
   "cell_type": "code",
   "execution_count": null,
   "metadata": {},
   "outputs": [],
   "source": [
    "#loading ULEZ\n",
    "path = \"/Users/oliverpaul/Data_Science/EDF/LAEI - GIS geographies/Ultra_Low_Emissions_Zone.gpkg\"\n",
    "ULEZ = gpd.read_file(path)\n",
    "crs = {'init': 'epsg:27700'}\n",
    "ULEZ = gpd.GeoDataFrame(ULEZ, crs=crs)\n",
    "ULEZ = ULEZ.to_crs({'init': 'epsg:3857'})"
   ]
  },
  {
   "cell_type": "code",
   "execution_count": null,
   "metadata": {},
   "outputs": [],
   "source": [
    "gdf['tot_avg_no2'] = gdf['tot_avg_no2'].fillna(0)"
   ]
  },
  {
   "cell_type": "code",
   "execution_count": null,
   "metadata": {},
   "outputs": [],
   "source": [
    "gdf['tot_avg_no2'] = gdf['tot_avg_no2'].astype(int)"
   ]
  },
  {
   "cell_type": "code",
   "execution_count": null,
   "metadata": {},
   "outputs": [],
   "source": [
    "plt.rcParams['figure.dpi'] = 300\n",
    "\n",
    "ax = ULEZ.plot(figsize=(20, 20), edgecolor='k', facecolor='none', linewidth=2, zorder = 1)\n",
    "\n",
    "roads[(roads['DESC_TERM'] == \"A Road\") & ((roads['VKMTOTAL16'] > 100000) & (roads['VKMTOTAL16'] < 1000000))].plot(ax=ax, \n",
    "                                                                               column='VKMTOTAL16', \n",
    "                                                                               legend=False, \n",
    "                                                                               cmap='Reds', \n",
    "                                                                               linewidth = 3, zorder = 5)\n",
    "\n",
    "gdf.plot(ax=ax, markersize = gdf['tot_avg_no2']**2, zorder = 50, alpha=0.5)\n",
    "gdf.plot(ax=ax, markersize = 20, zorder = 50, facecolor='black')\n",
    "\n",
    "ax.set(xlim=(-20000, -5800), ylim=(6706000, 6717500))\n",
    "ctx.add_basemap(ax=ax, url=ctx.providers.Stamen.TonerLite)\n",
    "\n",
    "circ1 = Line2D([0], [0], linestyle=\"none\", marker=\"o\", markersize=25, markerfacecolor=\"lightgray\", alpha = 0.85)\n",
    "circ2 = Line2D([0], [0], linestyle=\"none\", marker=\"o\", markersize=12, markerfacecolor=\"lightgray\", alpha = 0.85)\n",
    "\n",
    "leg = ax.legend((circ1, circ2), (\"Higher Average\", \"Lower Average\"), \n",
    "                      numpoints=1, \n",
    "                      loc=4,\n",
    "                      fontsize ='x-large')\n",
    "\n",
    "ax.set_title('Relative A-Road traffic flow intensity and relative average No2 readings for ULEZ area\\n', \n",
    "                 fontdict={'fontsize': '20', 'fontweight' : '2'})\n",
    "\n",
    "plt.axis('off')\n",
    "plt.show()"
   ]
  },
  {
   "cell_type": "markdown",
   "metadata": {},
   "source": [
    "### One of the highest reading sensors in is Bank. The fact that this sensor is at the intersection of 6 roads is not reflected in the data. It is clear we cant look only at traffic flows per road, but also the intersection between roads."
   ]
  },
  {
   "cell_type": "code",
   "execution_count": null,
   "metadata": {},
   "outputs": [],
   "source": [
    "plt.rcParams['figure.dpi'] = 300\n",
    "\n",
    "ax = ULEZ.plot(figsize=(20, 20), edgecolor='k', facecolor='none', linewidth=2, zorder = 1)\n",
    "\n",
    "roads[(roads['DESC_TERM'] == \"A Road\") & ((roads['VKMTOTAL16'] > 100000) & (roads['VKMTOTAL16'] < 1000000))].plot(ax=ax, \n",
    "                                                                               column='VKMTOTAL16', \n",
    "                                                                               legend=False, \n",
    "                                                                               cmap='Reds', \n",
    "                                                                               linewidth = 3, zorder = 5)\n",
    "\n",
    "gdf.plot(ax=ax, markersize = gdf['tot_avg_pm25']**3, zorder = 50, alpha=0.5)\n",
    "gdf.plot(ax=ax, markersize = 20, zorder = 50, facecolor='black')\n",
    "\n",
    "ax.set(xlim=(-20000, -5800), ylim=(6706000, 6717500))\n",
    "ctx.add_basemap(ax=ax, url=ctx.providers.Stamen.TonerLite)\n",
    "\n",
    "circ1 = Line2D([0], [0], linestyle=\"none\", marker=\"o\", markersize=25, markerfacecolor=\"lightgray\", alpha = 0.85)\n",
    "circ2 = Line2D([0], [0], linestyle=\"none\", marker=\"o\", markersize=12, markerfacecolor=\"lightgray\", alpha = 0.85)\n",
    "\n",
    "leg = ax.legend((circ1, circ2), (\"Higher Average\", \"Lower Average\"), \n",
    "                      numpoints=1, \n",
    "                      loc=4,\n",
    "                      fontsize ='x-large')\n",
    "\n",
    "ax.set_title('Relative A-Road traffic flow intensity and relative average PM2.5 readings for ULEZ area\\n', \n",
    "                 fontdict={'fontsize': '20', 'fontweight' : '2'})\n",
    "\n",
    "plt.axis('off')\n",
    "plt.show()"
   ]
  },
  {
   "cell_type": "code",
   "execution_count": null,
   "metadata": {},
   "outputs": [],
   "source": [
    "pm_cor = df[['tot_avg_pm25', 'motorway_min_dist', 'a_road_min_dist']].dropna()"
   ]
  },
  {
   "cell_type": "markdown",
   "metadata": {},
   "source": [
    "### Minimum distances from road calculated in road_network script"
   ]
  },
  {
   "cell_type": "markdown",
   "metadata": {},
   "source": [
    "### Correlation matrix for pm25 and minimum sensor distance from motorways or A-roads"
   ]
  },
  {
   "cell_type": "code",
   "execution_count": null,
   "metadata": {},
   "outputs": [],
   "source": [
    "## Plot correlation matrix for pm25\n",
    "cmap = sns.diverging_palette(220, 20, sep=20, as_cmap=True)\n",
    "sns.clustermap(pm_cor.corr(), figsize= (20,20), cmap = cmap, annot=True).ax_row_dendrogram.set_visible(False)\n",
    "plt.show()"
   ]
  },
  {
   "cell_type": "markdown",
   "metadata": {},
   "source": [
    "### We observe no correlation between average sensor readings and distance from roads for pm 2.5"
   ]
  },
  {
   "cell_type": "code",
   "execution_count": null,
   "metadata": {},
   "outputs": [],
   "source": [
    "no2_cor = df[['tot_avg_no2', 'motorway_min_dist', 'a_road_min_dist']].dropna()"
   ]
  },
  {
   "cell_type": "code",
   "execution_count": null,
   "metadata": {},
   "outputs": [],
   "source": [
    "## Plot correlation matrix for pm25\n",
    "cmap = sns.diverging_palette(220, 20, sep=20, as_cmap=True)\n",
    "sns.clustermap(no2_cor.corr(), figsize= (20,20), cmap = cmap, annot=True).ax_row_dendrogram.set_visible(False)\n",
    "plt.show()"
   ]
  },
  {
   "cell_type": "markdown",
   "metadata": {},
   "source": [
    "### We observe a negative correlation of approximately 0.3 for No2 and distance from A-roads"
   ]
  },
  {
   "cell_type": "markdown",
   "metadata": {},
   "source": [
    "### The below analysis would be greatly improved by using dynamic data. In the absence of that, this only looks at borough level data from London Borough Atlas 2016"
   ]
  },
  {
   "cell_type": "code",
   "execution_count": null,
   "metadata": {},
   "outputs": [],
   "source": [
    "no2_traffic_cor = df[['no2_ugm3', ' VKM Motorcycle', ' VKM Petrol Car', ' VKM Diesel Car', ' VKM Taxi', ' VKM Electric Car', ' VKM Petrol LGV', ' VKM Diesel LGV', ' VKM Electric LGV', ' VKM Bus', ' VKM Coach', ' VKM Rigid HGV', ' VKM Artic HGV', ' VKM TOTAL']].dropna()"
   ]
  },
  {
   "cell_type": "code",
   "execution_count": null,
   "metadata": {},
   "outputs": [],
   "source": [
    "## Plot correlation matrix for no2 traffic\n",
    "cmap = sns.diverging_palette(220, 20, sep=20, as_cmap=True)\n",
    "sns.clustermap(no2_traffic_cor.corr(), figsize= (20,20), cmap = cmap, annot=True).ax_row_dendrogram.set_visible(False)\n",
    "\n",
    "plt.show()"
   ]
  },
  {
   "cell_type": "markdown",
   "metadata": {},
   "source": [
    "### For No2 we observe a positive correlation with taxis, busses, coaches and motorcycles. There is no significant correlation between vehicle types and PM 2.5 concentrations "
   ]
  },
  {
   "cell_type": "markdown",
   "metadata": {},
   "source": [
    "### The plot below highlights the relationship between No2 concentrations and minimum main road distance. A stronger trend can be seen within a radius below 400 metres. "
   ]
  },
  {
   "cell_type": "code",
   "execution_count": null,
   "metadata": {},
   "outputs": [],
   "source": [
    "plt.rcParams['figure.figsize'] = (15,8)\n",
    "plt.rcParams['figure.dpi'] = 300\n",
    "\n",
    "\n",
    "fig, ax = plt.subplots()\n",
    "\n",
    "sns.scatterplot(x=np.log(df[\"a_road_min_dist\"]), \n",
    "                y=np.log(df[\"tot_avg_no2\"]),\n",
    "                 data=df,\n",
    "                    hue = 'Site_Type_x',\n",
    "                    ax=ax)\n",
    "\n",
    "sns.regplot(x=np.log(df[\"a_road_min_dist\"]), \n",
    "                 y=np.log(df[\"tot_avg_no2\"]), \n",
    "                 data=df,\n",
    "                    scatter = False,\n",
    "                    ax=ax)\n",
    "\n",
    "\n",
    "ax.set(xlabel='Sensor minimum distance from A-Road, Natural Log Scale', ylabel='Average No2 Levels in µg/m3, Natural Log Scale')\n",
    "ax.set_title(\"Regression plot to show relationship between average No2 levels and distance from main road\\n\",\n",
    "             fontdict={'fontsize': '16', 'fontweight' : '5'})\n",
    "\n",
    "ax.text(0.37,2.6, \"Pearson's correlation coefficient = -0.28\\np-value = 0.00357\")\n",
    "\n",
    "legend = ax.legend(loc ='lower left')\n",
    "legend.texts[0].set_text(\"Site Type\")\n",
    "\n",
    "plt.show()"
   ]
  },
  {
   "cell_type": "code",
   "execution_count": null,
   "metadata": {},
   "outputs": [],
   "source": [
    "#pearsons correlation\n",
    "p = df[['tot_avg_no2', 'a_road_min_dist']]\n",
    "p = p.dropna(subset=['tot_avg_no2', 'a_road_min_dist'])\n",
    "\n",
    "pearson = pearsonr(p['tot_avg_no2'], p['a_road_min_dist'])\n",
    "pearson"
   ]
  }
 ],
 "metadata": {
  "kernelspec": {
   "display_name": "Python 3",
   "language": "python",
   "name": "python3"
  },
  "language_info": {
   "codemirror_mode": {
    "name": "ipython",
    "version": 3
   },
   "file_extension": ".py",
   "mimetype": "text/x-python",
   "name": "python",
   "nbconvert_exporter": "python",
   "pygments_lexer": "ipython3",
   "version": "3.7.4"
  }
 },
 "nbformat": 4,
 "nbformat_minor": 4
}
