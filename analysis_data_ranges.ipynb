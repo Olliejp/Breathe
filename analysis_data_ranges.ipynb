{
 "cells": [
  {
   "cell_type": "code",
   "execution_count": null,
   "metadata": {},
   "outputs": [],
   "source": [
    "import pandas as pd\n",
    "import numpy as np\n",
    "import matplotlib.dates as mdates\n",
    "import matplotlib.pyplot as plt\n",
    "import seaborn as sns\n",
    "\n",
    "%matplotlib inline\n",
    "from pandas.plotting import register_matplotlib_converters\n",
    "register_matplotlib_converters()\n",
    "\n",
    "## Spatial Manipulation\n",
    "import geopandas as gpd\n",
    "from shapely.geometry import Point\n",
    "\n",
    "## Mapping\n",
    "import folium\n",
    "from folium import plugins\n",
    "\n",
    "## Misc\n",
    "import functools\n",
    "from itertools import product\n",
    "import contextily as ctx\n",
    "\n",
    "pd.options.display.max_columns = None\n",
    "#pd.options.display.max_rows = None\n",
    "\n",
    "from mpl_toolkits.axes_grid1 import make_axes_locatable"
   ]
  },
  {
   "cell_type": "code",
   "execution_count": null,
   "metadata": {},
   "outputs": [],
   "source": [
    "df = pd.read_csv(\"pm_no_clean.csv\", index_col=0)\n",
    "df['date_UTC'] = pd.to_datetime(df[\"date_UTC\"])"
   ]
  },
  {
   "cell_type": "code",
   "execution_count": null,
   "metadata": {},
   "outputs": [],
   "source": [
    "def make_date_range_diurnal(data_range, title, pollutant, hue, y_axis):\n",
    "\n",
    "    plt.rcParams['figure.dpi'] = 150\n",
    "\n",
    "    col_order=[\"Monday\", \"Tuesday\", \"Wednesday\", \"Thursday\", \"Friday\", \"Saturday\", \"Sunday\"]\n",
    "\n",
    "    g = sns.relplot(x='hour',\n",
    "                    y=pollutant, \n",
    "                    col=\"w_day\", \n",
    "                    kind=\"line\", \n",
    "                    ci=95, \n",
    "                    data=data_range, \n",
    "                    hue=hue,\n",
    "                    col_order=col_order)\n",
    "\n",
    "\n",
    "    axes = g.axes.flatten()\n",
    "    axes[0].set_title(\"Monday\")\n",
    "    axes[1].set_title(\"Tuesday\")\n",
    "    axes[2].set_title(\"Wednesday\")\n",
    "    axes[3].set_title(\"Thursday\")\n",
    "    axes[4].set_title(\"Friday\")\n",
    "    axes[5].set_title(\"Saturday\")\n",
    "    axes[6].set_title(\"Sunday\")\n",
    "\n",
    "    axes[0].set_ylabel(y_axis)\n",
    "    for ax in axes:\n",
    "        ax.set_xlabel(\"Hour\")\n",
    "\n",
    "    g.fig.suptitle(title, \n",
    "                   weight='semibold', \n",
    "                   y= 1.06, \n",
    "                   size='x-large')\n",
    "\n",
    "    plt.margins(x=0)\n",
    "    plt.subplots_adjust(hspace=0, wspace=0)"
   ]
  },
  {
   "cell_type": "markdown",
   "metadata": {},
   "source": [
    "## Weekly Seasons"
   ]
  },
  {
   "cell_type": "code",
   "execution_count": null,
   "metadata": {},
   "outputs": [],
   "source": [
    "make_date_range_diurnal(df[df['season'] == 'Winter'],\n",
    "                       'PM2.5 diurnal plot for Winter',\n",
    "                       'pm2_5_ugm3', None, 'Hourly Average PM 2.5 μg/m3')"
   ]
  },
  {
   "cell_type": "code",
   "execution_count": null,
   "metadata": {},
   "outputs": [],
   "source": [
    "make_date_range_diurnal(df[df['season'] == 'Winter'],\n",
    "                       'No2 diurnal plot for Winter',\n",
    "                       'no2_ugm3', None, 'Hourly Average No2 2.5 μg/m3')"
   ]
  },
  {
   "cell_type": "code",
   "execution_count": null,
   "metadata": {},
   "outputs": [],
   "source": [
    "make_date_range_diurnal(df[df['season'] == 'Winter'],\n",
    "                       'PM2.5 diurnal plot for Winter - with ULEZ',\n",
    "                       'pm2_5_ugm3', 'Zone', 'Hourly Average PM 2.5 μg/m3')"
   ]
  },
  {
   "cell_type": "code",
   "execution_count": null,
   "metadata": {},
   "outputs": [],
   "source": [
    "make_date_range_diurnal(df[df['season'] == 'Winter'],\n",
    "                       'No2 diurnal plot for Winter - with ULEZ',\n",
    "                       'no2_ugm3', 'Zone', 'Hourly Average No2 μg/m3')"
   ]
  },
  {
   "cell_type": "code",
   "execution_count": null,
   "metadata": {},
   "outputs": [],
   "source": [
    "make_date_range_diurnal(df[df['season'] == 'Summer'],\n",
    "                       'PM2.5 diurnal plot for Summer',\n",
    "                       'pm2_5_ugm3', None, 'Hourly Average PM 2.5 μg/m3')"
   ]
  },
  {
   "cell_type": "code",
   "execution_count": null,
   "metadata": {},
   "outputs": [],
   "source": [
    "make_date_range_diurnal(df[df['season'] == 'Summer'],\n",
    "                       'No2 diurnal plot for Summer',\n",
    "                       'no2_ugm3', None, 'Hourly Average No2 μg/m3')"
   ]
  },
  {
   "cell_type": "code",
   "execution_count": null,
   "metadata": {},
   "outputs": [],
   "source": [
    "make_date_range_diurnal(df[df['season'] == 'Summer'],\n",
    "                       'PM2.5 diurnal plot for Summer - with ULEZ',\n",
    "                       'pm2_5_ugm3', 'Zone', 'Hourly Average PM 2.5 μg/m3')"
   ]
  },
  {
   "cell_type": "code",
   "execution_count": null,
   "metadata": {},
   "outputs": [],
   "source": [
    "make_date_range_diurnal(df[df['season'] == 'Summer'],\n",
    "                       'No2 diurnal plot for Summer - with ULEZ',\n",
    "                       'no2_ugm3', 'Zone', 'Hourly Average No2 μg/m3')"
   ]
  },
  {
   "cell_type": "code",
   "execution_count": null,
   "metadata": {},
   "outputs": [],
   "source": [
    "make_date_range_diurnal(df[df['season'] == 'Spring'],\n",
    "                       'PM2.5 diurnal plot for Spring',\n",
    "                       'pm2_5_ugm3', None, 'Hourly Average PM 2.5 μg/m3')"
   ]
  },
  {
   "cell_type": "code",
   "execution_count": null,
   "metadata": {},
   "outputs": [],
   "source": [
    "make_date_range_diurnal(df[df['season'] == 'Spring'],\n",
    "                       'No2 diurnal plot for Spring',\n",
    "                       'no2_ugm3', None, 'Hourly Average No2 μg/m3')"
   ]
  },
  {
   "cell_type": "code",
   "execution_count": null,
   "metadata": {},
   "outputs": [],
   "source": [
    "make_date_range_diurnal(df[df['season'] == 'Spring'],\n",
    "                       'PM2.5 diurnal plot for Spring - with ULEZ',\n",
    "                       'pm2_5_ugm3', 'Zone', 'Hourly Average PM 2.5 μg/m3')"
   ]
  },
  {
   "cell_type": "code",
   "execution_count": null,
   "metadata": {},
   "outputs": [],
   "source": [
    "make_date_range_diurnal(df[df['season'] == 'Spring'],\n",
    "                       'No2 diurnal plot for Spring - with ULEZ',\n",
    "                       'no2_ugm3', 'Zone', 'Hourly Average No2 μg/m3')"
   ]
  },
  {
   "cell_type": "code",
   "execution_count": null,
   "metadata": {},
   "outputs": [],
   "source": [
    "make_date_range_diurnal(df[df['season'] == 'Autumn'],\n",
    "                       'PM2.5 diurnal plot for Autumn',\n",
    "                       'pm2_5_ugm3', None, 'Hourly Average PM 2.5 μg/m3')"
   ]
  },
  {
   "cell_type": "code",
   "execution_count": null,
   "metadata": {},
   "outputs": [],
   "source": [
    "make_date_range_diurnal(df[df['season'] == 'Autumn'],\n",
    "                       'No2 diurnal plot for Autumn',\n",
    "                       'no2_ugm3', None, 'Hourly Average No2 μg/m3')"
   ]
  },
  {
   "cell_type": "code",
   "execution_count": null,
   "metadata": {},
   "outputs": [],
   "source": [
    "make_date_range_diurnal(df[df['season'] == 'Autumn'],\n",
    "                       'PM2.5 diurnal plot for Autumn - with ULEZ',\n",
    "                       'pm2_5_ugm3', 'Zone', 'Hourly Average PM 2.5 μg/m3')"
   ]
  },
  {
   "cell_type": "code",
   "execution_count": null,
   "metadata": {},
   "outputs": [],
   "source": [
    "make_date_range_diurnal(df[df['season'] == 'Autumn'],\n",
    "                       'No2 diurnal plot for Autumn - with ULEZ',\n",
    "                       'no2_ugm3', 'Zone', 'Hourly Average No2 μg/m3')"
   ]
  },
  {
   "cell_type": "markdown",
   "metadata": {},
   "source": [
    "### There are some interesting changes in weekly patterns for PM 2.5 between seasons. To investigate this further, I would start by look at what kind of schedules farmers activities have across seasons have across seasons. "
   ]
  },
  {
   "cell_type": "code",
   "execution_count": null,
   "metadata": {},
   "outputs": [],
   "source": [
    "plt.rcParams['figure.dpi'] = 300\n",
    "\n",
    "ax = sns.boxplot(x=\"season\", y=\"no2_ugm3\", data= df, showfliers=False, order=None, palette='Set2')\n",
    "\n",
    "ax.set_xlabel('')\n",
    "ax.set_ylabel('Average No2 μg/m3')\n",
    "ax.set_title('Average No2 measurements by Season', fontdict={'fontsize': 'large', 'fontweight' : 'semibold'})\n",
    "\n",
    "ax_0 = ax.axes\n",
    "lines = ax_0.get_lines()\n",
    "categories = ax_0.get_xticks()\n",
    "\n",
    "for cat in categories:\n",
    "\n",
    "    y = round(lines[4+cat*5].get_ydata()[0],1) \n",
    "\n",
    "    ax_0.text(\n",
    "        cat, \n",
    "        y, \n",
    "        f'{y}', \n",
    "        ha='center', \n",
    "        va='center', \n",
    "        fontweight='bold', \n",
    "        size=10,\n",
    "        color='white',\n",
    "        bbox=dict(facecolor='#445A64'))\n",
    "    \n",
    "ax.annotate(s= '*Median averages annotated', xy=(-0.5,-18.0), annotation_clip=False, size=7)\n",
    "    \n",
    "plt.show()"
   ]
  },
  {
   "cell_type": "code",
   "execution_count": null,
   "metadata": {},
   "outputs": [],
   "source": [
    "plt.rcParams['figure.dpi'] = 300\n",
    "\n",
    "ax = sns.boxplot(x=\"season\", y=\"pm2_5_ugm3\", data= df, showfliers=False, order=None, palette='Set2')\n",
    "\n",
    "ax.set_xlabel('')\n",
    "ax.set_ylabel('Average PM 2.5 μg/m3')\n",
    "ax.set_title('Average PM 2.5 measurements by Season', fontdict={'fontsize': 'large', 'fontweight' : 'semibold'})\n",
    "\n",
    "ax_0 = ax.axes\n",
    "lines = ax_0.get_lines()\n",
    "categories = ax_0.get_xticks()\n",
    "\n",
    "for cat in categories:\n",
    "\n",
    "    y = round(lines[4+cat*5].get_ydata()[0],1) \n",
    "\n",
    "    ax_0.text(\n",
    "        cat, \n",
    "        y, \n",
    "        f'{y}', \n",
    "        ha='center', \n",
    "        va='center', \n",
    "        fontweight='bold', \n",
    "        size=10,\n",
    "        color='white',\n",
    "        bbox=dict(facecolor='#445A64'))\n",
    "\n",
    "ax.annotate(s= '*Median averages annotated', xy=(-0.5,-7.0), annotation_clip=False, size=7)\n",
    "    \n",
    "plt.show()"
   ]
  },
  {
   "cell_type": "markdown",
   "metadata": {},
   "source": [
    "## Significant dates "
   ]
  },
  {
   "cell_type": "markdown",
   "metadata": {},
   "source": [
    "### Plotting sensor locations using folium"
   ]
  },
  {
   "cell_type": "code",
   "execution_count": null,
   "metadata": {},
   "outputs": [],
   "source": [
    "geometry = [Point(xy) for xy in zip(df.Longitude, df.Latitude)]\n",
    "gdf = gpd.GeoDataFrame(df, geometry=geometry)"
   ]
  },
  {
   "cell_type": "code",
   "execution_count": null,
   "metadata": {},
   "outputs": [],
   "source": [
    "gdf = gdf.drop_duplicates(subset=['pod_id_location'])"
   ]
  },
  {
   "cell_type": "code",
   "execution_count": null,
   "metadata": {},
   "outputs": [],
   "source": [
    "df_lat_lon = (gdf\n",
    "              ['geometry']\n",
    "              .apply(lambda p: (p.x, p.y))\n",
    "              .apply(pd.Series)\n",
    "              .rename(columns={\n",
    "                  0:'longitude', \n",
    "                  1:'latitude'\n",
    "              })\n",
    "              [['latitude', 'longitude']]\n",
    "             )\n",
    "\n",
    "df_lat_lon.head()"
   ]
  },
  {
   "cell_type": "code",
   "execution_count": null,
   "metadata": {},
   "outputs": [],
   "source": [
    "## Initialising map with custom tiles\n",
    "m = folium.Map([51.5, -0.1], zoom_start=10.5, tiles='openstreetmap') # cartodbpositron\n",
    "\n",
    "# converting lon and lat to 2d array for heatmap\n",
    "sensors = df_lat_lon.values\n",
    "\n",
    "# plotting the heatmap\n",
    "m.add_child(plugins.HeatMap(sensors, radius=20))\n",
    "m"
   ]
  },
  {
   "cell_type": "markdown",
   "metadata": {},
   "source": [
    "Looking to see which sensors lie within Notting Hill carnival area\n",
    "\n",
    "![](notting_hill.png)"
   ]
  },
  {
   "cell_type": "code",
   "execution_count": null,
   "metadata": {},
   "outputs": [],
   "source": [
    "df_notting_hill = df[df['location_name'] == 'Ladbroke Grove']"
   ]
  },
  {
   "cell_type": "markdown",
   "metadata": {},
   "source": [
    "Since the carnival took place on a sunday and public holiday, we can compare measurements during the carnival with all other sundays and public holidays "
   ]
  },
  {
   "cell_type": "code",
   "execution_count": null,
   "metadata": {},
   "outputs": [],
   "source": [
    "#make_date_range_diurnal(df_notting_hill[(df_notting_hill['date_UTC'] >= '2019-11-04 00:00:00') & (df_notting_hill['date_UTC'] <= '2019-11-11 00:00:00')],\n",
    "#                       'PM2.5 diurnal plot for Guy Fawkes week 2019 (Tuesday)',\n",
    "#                       'pm2_5_ugm3', None , 'df')"
   ]
  },
  {
   "cell_type": "code",
   "execution_count": null,
   "metadata": {},
   "outputs": [],
   "source": [
    "df_notting_hill = df_notting_hill[(df_notting_hill['w_day'] == 'Sunday') | (df_notting_hill['public_hols'] == 'public holiday')]\n"
   ]
  },
  {
   "cell_type": "code",
   "execution_count": null,
   "metadata": {},
   "outputs": [],
   "source": [
    "carnival = {\n",
    "             pd.to_datetime('2019-08-25',format='%Y-%m-%d'): 'Notting Hill Carnival',\n",
    "             pd.to_datetime('2019-08-26',format='%Y-%m-%d'): 'Notting Hill Carnival'\n",
    "}\n",
    "\n",
    "df_notting_hill['Notting Hill'] = df_notting_hill['date_UTC'].dt.date.map(carnival).fillna('Other Sunday or Bank Holiday')"
   ]
  },
  {
   "cell_type": "code",
   "execution_count": null,
   "metadata": {},
   "outputs": [],
   "source": [
    "order = ['Notting Hill Carnival', 'Other Sunday or Bank Holiday']\n",
    "\n",
    "ax = sns.boxplot(x=\"Notting Hill\", y='no2_ugm3', data= df_notting_hill, showfliers=False, order=order)\n",
    "\n",
    "ax.set_xlabel('')\n",
    "ax.set_ylabel('Average No2 μg/m3')\n",
    "ax.set_title('Average No2 measurements at Ladbroke Grove during\\nNotting Hill Carnival\\n', fontdict={'fontsize': 'large', 'fontweight' : 'semibold'})\n",
    "plt.show()"
   ]
  },
  {
   "cell_type": "markdown",
   "metadata": {},
   "source": [
    "### hmmm surprising result for Notting Hill Carnival... Taking a look at Pride London\n",
    "\n",
    "![](pride.png)"
   ]
  },
  {
   "cell_type": "markdown",
   "metadata": {},
   "source": [
    "### Pride occupied much of the ULEZ, so looking at sensors within ULEZ. It took place on Saturday 6 July. Will compare this date with all other Saturdays for ULEZ"
   ]
  },
  {
   "cell_type": "code",
   "execution_count": null,
   "metadata": {},
   "outputs": [],
   "source": [
    "pride = df[(df['w_day'] == 'Saturday') & (df['Zone'] == 'ULEZ') & (df['season'] == 'Summer')].copy()"
   ]
  },
  {
   "cell_type": "code",
   "execution_count": null,
   "metadata": {},
   "outputs": [],
   "source": [
    "date = {\n",
    "             pd.to_datetime('2019-07-06',format='%Y-%m-%d'): 'London Pride'\n",
    "}\n",
    "\n",
    "pride['London Pride'] = pride['date_UTC'].dt.date.map(date).fillna('All other Saturdays in ULEZ')"
   ]
  },
  {
   "cell_type": "markdown",
   "metadata": {},
   "source": [
    "### My guess is Pride doesn't effect the whole city... will remove sensors that are far away from the event - ie south of the river. However, unfortunately, there is a gap in sensor coverage for much of the Pride route"
   ]
  },
  {
   "cell_type": "code",
   "execution_count": null,
   "metadata": {},
   "outputs": [],
   "source": [
    "geometry = [Point(xy) for xy in zip(df.Longitude, df.Latitude)]\n",
    "crs = {'init': 'epsg:4326'}\n",
    "gdf_2 = gpd.GeoDataFrame(df, crs = crs, geometry=geometry)\n",
    "gdf_2 = gdf_2.to_crs({'init': 'epsg:3857'})"
   ]
  },
  {
   "cell_type": "code",
   "execution_count": null,
   "metadata": {},
   "outputs": [],
   "source": [
    "gdf_2 = gdf_2[['pod_id_location', 'geometry', 'Zone']]\n",
    "gdf_2 = gdf_2.drop_duplicates(subset=['pod_id_location'])\n",
    "gdf_2 = gdf_2[gdf_2['Zone'] == 'ULEZ']"
   ]
  },
  {
   "cell_type": "code",
   "execution_count": null,
   "metadata": {},
   "outputs": [],
   "source": [
    "plt.rcParams['figure.dpi'] = 300\n",
    "\n",
    "ax = gdf_2.plot(figsize=(12,12))\n",
    "\n",
    "gdf_2.apply(lambda x: ax.annotate(s=x.pod_id_location, xy=x.geometry.coords[0]), axis=1)\n",
    "\n",
    "ctx.add_basemap(ax=ax)\n",
    "\n",
    "plt.axis('off')\n",
    "plt.show()"
   ]
  },
  {
   "cell_type": "code",
   "execution_count": null,
   "metadata": {},
   "outputs": [],
   "source": [
    "remove = [77245, 57245, 83245, 8245, 22245, 10245, 36245, 85245, 88245, 47245]\n",
    "\n",
    "pride = pride[~pride['pod_id_location'].isin(remove)]\n",
    "gdf_2 = gdf_2[~gdf_2['pod_id_location'].isin(remove)]"
   ]
  },
  {
   "cell_type": "code",
   "execution_count": null,
   "metadata": {},
   "outputs": [],
   "source": [
    "plt.rcParams['figure.dpi'] = 300\n",
    "\n",
    "ax = gdf_2.plot(figsize=(12,12))\n",
    "\n",
    "gdf_2.apply(lambda x: ax.annotate(s=x.pod_id_location, xy=x.geometry.coords[0]), axis=1)\n",
    "\n",
    "ctx.add_basemap(ax=ax)\n",
    "\n",
    "plt.axis('off')\n",
    "plt.show()"
   ]
  },
  {
   "cell_type": "code",
   "execution_count": null,
   "metadata": {},
   "outputs": [],
   "source": [
    "order = ['London Pride', 'All other Saturdays in ULEZ']\n",
    "\n",
    "ax = sns.boxplot(x=\"London Pride\", y=\"no2_ugm3\", data= pride, showfliers=False, order=order)\n",
    "\n",
    "ax_1 = ax.axes\n",
    "lines = ax_1.get_lines()\n",
    "categories = ax_1.get_xticks()\n",
    "\n",
    "for cat in categories:\n",
    "\n",
    "    y = round(lines[4+cat*5].get_ydata()[0],1) \n",
    "\n",
    "    ax_1.text(\n",
    "        cat, \n",
    "        y, \n",
    "        f'{y}', \n",
    "        ha='center', \n",
    "        va='center', \n",
    "        fontweight='bold', \n",
    "        size=10,\n",
    "        color='white',\n",
    "        bbox=dict(facecolor='#445A64'))\n",
    "\n",
    "ax.set_xlabel('')\n",
    "ax.set_ylabel('Average No2 μg/m3')\n",
    "ax.set_title('Average No2 measurements in ULEZ during\\nLondon Pride\\n', fontdict={'fontsize': 'large', 'fontweight' : 'semibold'})\n",
    "plt.show()"
   ]
  },
  {
   "cell_type": "markdown",
   "metadata": {},
   "source": [
    "### There is a slightly lower average, however there is little sensor density in the area of interest, particuarly since sensor location 172450 wasn't producing data at the time"
   ]
  },
  {
   "cell_type": "markdown",
   "metadata": {},
   "source": [
    "### Looking at extinction rebellion will compare this week with all other workdays in Spring (since we know No2 is higher in winter so will scew average)"
   ]
  },
  {
   "cell_type": "markdown",
   "metadata": {},
   "source": [
    "Extract from Wikipedia so I know where to look:\n",
    "\n",
    "Starting from Monday 15 April 2019, Extinction Rebellion organised demonstrations in London, focusing their attention on Oxford Circus, Marble Arch, Waterloo Bridge and the area around Parliament Square.[52] Activists fixed a pink boat named after murdered Honduran environmental activist Berta Cáceres in the middle of the busy intersection of Oxford Street and Regent Street (Oxford Circus) and glued themselves to it,[53][54] and also set up several gazebos, potted plants and trees, a mobile stage and a skate ramp whilst also occupying Waterloo Bridge.[55][56] Five activists, including XR co-founder Simon Bramwell, were arrested for criminal damage when they targeted Shell's headquarters, near Waterloo.[57][55] After the police imposed a 24-hour Section 14 condition at 18:55 requiring activists to move to Marble Arch[58] the police tried to clear Waterloo Bridge arresting 113 people, without gaining control of the bridge.[59][60]\n",
    "\n",
    "On the second day of actions on Waterloo Bridge police began making arrests of the activists at 12.40 pm,[61] but stopped a few hours later,[62] after running out of holding cells.[63] By the end of Tuesday 16 April an estimated 500,000 people had been affected by the disruptions and 290 activists had been arrested in London.[64] In Scotland, more than 1,000 protesters occupied the North Bridge for seven hours in Edinburgh, bringing one of the main routes into the city centre to a standstill. Police said they made 29 arrests.[65][66]\n",
    "\n",
    "On the morning of Wednesday 17 April two activists climbed onto the roof of a Docklands Light Railway train at Canary Wharf station whilst another glued himself to the side, spreading disruption to railway services.[67] The following day the three activists were charged with obstructing trains and after pleading not guilty sent to jail for four weeks, with no bail, whilst awaiting their next hearing.[68] In response to the protests, the British Transport Police suspended access to public Wi-Fi at London Underground stations the same day.[69][70][71] Towards the end of Wednesday a large force of police marched on the camp at Parliament Square, arresting people and partially removing roadblocks[72] before it was retaken later the same night by protesters who arrived with a samba band and re-established the roadblocks.[73]\n",
    "\n",
    "At the start of Thursday 18 April, the fourth day of continuous occupations at four locations, the arrest figure had risen to 428, the majority for breaching public order laws and obstructing a highway.[53][74] During the morning of 18 April about 20 XR activists spread traffic disruption wider with a series of swarming (short duration) roadblocks on Vauxhall Bridge.[75]\n",
    "\n",
    "\n",
    "A mural appeared at Marble Arch after the closing ceremony on 25 April and this was attributed to the artist Banksy.[76][77] The slogan \"From this moment despair ends and tactics begin\" is a quotation from The Revolution of Everyday Life.[78]\n",
    "On the morning of 19 April, after significant media speculation about a threat to Heathrow Airport,[79][80][81] around a dozen teenagers, some aged 13 and 14, approached the access road holding a banner which read “Are we the last generation?” Some of the teenagers wept and hugged each other, as they were surrounded by a far larger squad of police.[54][82][83] In the middle of the day police moved in force to surround the pink boat as Emma Thompson read poetry from the deck, eventually removing the people who were either locked-on or glued to it. After seven hours police had moved the boat without clearing Oxford Circus.[53][84] By late evening police said that 682 people had thus far been arrested in London.[54]\n",
    "\n",
    "On 25 April thirteen protesters blockaded the London Stock Exchange by gluing themselves across its entrances, wearing LED signs. Despite this, the operation of the market was not affected.[85] Another 4 protesters climbed on to a Docklands Light Railway train at Canary Wharf, and held the banners, which resulted in a short delay between Bank and Monument station and Stratford/Lewisham station. 26 people were arrested.[85] In the afternoon, the activists gathered at Hyde Park as the \"closing ceremony\" of the movement, which ended the 11-day demonstrations in London. A total of 1,130 people were arrested during the demonstrations.[86] As of June 2019, one protester, Angie Zelter, has been convicted of a public order offence for taking part in the occupations.[87]"
   ]
  },
  {
   "cell_type": "markdown",
   "metadata": {},
   "source": [
    "Again most disruption seems to have taken place in the ULEZ, so lets look there"
   ]
  },
  {
   "cell_type": "code",
   "execution_count": null,
   "metadata": {},
   "outputs": [],
   "source": [
    "er = df[(df['day_type'] == 'weekday') & (df['Zone'] == 'ULEZ') & (df['season'] == 'Spring')].copy()\n"
   ]
  },
  {
   "cell_type": "code",
   "execution_count": null,
   "metadata": {},
   "outputs": [],
   "source": [
    "date = {\n",
    "    pd.to_datetime('2019-04-15',format='%Y-%m-%d'): 'Extinction Rebellion',\n",
    "    pd.to_datetime('2019-04-16',format='%Y-%m-%d'): 'Extinction Rebellion',\n",
    "    pd.to_datetime('2019-04-17',format='%Y-%m-%d'): 'Extinction Rebellion',\n",
    "    pd.to_datetime('2019-04-18',format='%Y-%m-%d'): 'Extinction Rebellion',\n",
    "    pd.to_datetime('2019-04-19',format='%Y-%m-%d'): 'Extinction Rebellion'    \n",
    "}\n",
    "\n",
    "er['Extinction Rebellion'] = er['date_UTC'].dt.date.map(date).fillna('All other work weeks in ULEZ')"
   ]
  },
  {
   "cell_type": "code",
   "execution_count": null,
   "metadata": {},
   "outputs": [],
   "source": [
    "#order = ['London Pride', 'All other Saturdays in ULEZ']\n",
    "\n",
    "ax = sns.boxplot(x=\"Extinction Rebellion\", y=\"no2_ugm3\", data= er, showfliers=False, order=None)\n",
    "\n",
    "ax.set_xlabel('')\n",
    "ax.set_ylabel('Average No2 μg/m3')\n",
    "ax.set_title('Average No2 measurements in ULEZ during\\nExtinction Rebellion April 2019\\n', fontdict={'fontsize': 'large', 'fontweight' : 'semibold'})\n",
    "plt.show()"
   ]
  },
  {
   "cell_type": "code",
   "execution_count": null,
   "metadata": {},
   "outputs": [],
   "source": [
    "ax = sns.boxplot(x=\"pod_id_location\", y=\"no2_ugm3\", data= er[er['Extinction Rebellion']=='Extinction Rebellion'], showfliers=False, order=None)\n",
    "plt.xticks(rotation=90)"
   ]
  },
  {
   "cell_type": "code",
   "execution_count": null,
   "metadata": {},
   "outputs": [],
   "source": [
    "ax = sns.boxplot(x=\"pod_id_location\", y=\"no2_ugm3\", data= er[er['Extinction Rebellion']=='All other work weeks in ULEZ'], showfliers=False, order=None)\n",
    "plt.xticks(rotation=90)"
   ]
  },
  {
   "cell_type": "markdown",
   "metadata": {},
   "source": [
    "No2 levels seem higher during extinction rebellion week compared with other work weeks in Spring... Possible the protests caused high traffic and hense higher pollution levels???"
   ]
  },
  {
   "cell_type": "code",
   "execution_count": null,
   "metadata": {},
   "outputs": [],
   "source": []
  }
 ],
 "metadata": {
  "kernelspec": {
   "display_name": "Python 3",
   "language": "python",
   "name": "python3"
  },
  "language_info": {
   "codemirror_mode": {
    "name": "ipython",
    "version": 3
   },
   "file_extension": ".py",
   "mimetype": "text/x-python",
   "name": "python",
   "nbconvert_exporter": "python",
   "pygments_lexer": "ipython3",
   "version": "3.7.4"
  }
 },
 "nbformat": 4,
 "nbformat_minor": 4
}
