{
 "cells": [
  {
   "cell_type": "code",
   "execution_count": null,
   "metadata": {},
   "outputs": [],
   "source": [
    "import pandas as pd\n",
    "import numpy as np\n",
    "import matplotlib.dates as mdates\n",
    "import matplotlib.pyplot as plt\n",
    "import seaborn as sns\n",
    "\n",
    "%matplotlib inline\n",
    "from pandas.plotting import register_matplotlib_converters\n",
    "register_matplotlib_converters()\n",
    "\n",
    "## Spatial Manipulation\n",
    "import geopandas as gpd\n",
    "from shapely.geometry import Point\n",
    "\n",
    "## Mapping\n",
    "import folium\n",
    "from folium import plugins\n",
    "\n",
    "## Misc\n",
    "import functools\n",
    "from itertools import product\n",
    "import contextily as ctx\n",
    "\n",
    "pd.options.display.max_columns = None\n",
    "pd.options.display.max_rows = None\n",
    "\n",
    "from matplotlib.lines import Line2D \n",
    "\n",
    "from mpl_toolkits.axes_grid1 import make_axes_locatable"
   ]
  },
  {
   "cell_type": "markdown",
   "metadata": {},
   "source": [
    "# Schools and school run analysis \n",
    "### Data was processed in the base script\n"
   ]
  },
  {
   "cell_type": "code",
   "execution_count": null,
   "metadata": {},
   "outputs": [],
   "source": [
    "df = pd.read_csv('pm_no_clean.csv', index_col=0)"
   ]
  },
  {
   "cell_type": "code",
   "execution_count": null,
   "metadata": {},
   "outputs": [],
   "source": [
    "#function to make box plots\n",
    "\n",
    "def make_box(title, order, x, x_labels, data):\n",
    "    \n",
    "    fig, axs = plt.subplots(dpi=600, nrows=2, figsize=(9, 8))\n",
    "\n",
    "    order = order\n",
    "\n",
    "    a = sns.boxplot(x=x,\n",
    "                    y='no2_ugm3',\n",
    "                    data=data,\n",
    "                    showfliers=False,\n",
    "                    palette='Set2',\n",
    "                    order= order,\n",
    "                    ax=axs[0])\n",
    "\n",
    "    ax_1 = a.axes\n",
    "    lines = ax_1.get_lines()\n",
    "    categories = ax_1.get_xticks()\n",
    "\n",
    "    for cat in categories:\n",
    "\n",
    "        y = round(lines[4+cat*5].get_ydata()[0],1) \n",
    "\n",
    "        ax_1.text(\n",
    "            cat, \n",
    "            y, \n",
    "            f'{y}', \n",
    "            ha='center', \n",
    "            va='center', \n",
    "            fontweight='bold', \n",
    "            size=10,\n",
    "            color='white',\n",
    "            bbox=dict(facecolor='#445A64'))\n",
    "    \n",
    "    ax_1.axes.get_xaxis().set_ticks([])\n",
    "    ax_1.axes.get_xaxis().set_visible(False)\n",
    "\n",
    "    a.set_ylabel('Average No2 μg/m3') \n",
    "    a.set_title(title)\n",
    "    \n",
    "    #-----------------------\n",
    "    \n",
    "    b = sns.boxplot(x=x,\n",
    "                     y='pm2_5_ugm3',\n",
    "                     data=data,\n",
    "                     showfliers=False,\n",
    "                     palette='Set2',\n",
    "                     order= order,\n",
    "                     ax=axs[1])\n",
    "\n",
    "    ax_1 = b.axes\n",
    "    lines = ax_1.get_lines()\n",
    "    categories = ax_1.get_xticks()\n",
    "\n",
    "    for cat in categories:\n",
    "\n",
    "        y = round(lines[4+cat*5].get_ydata()[0],1) \n",
    "\n",
    "        ax_1.text(\n",
    "            cat, \n",
    "            y, \n",
    "            f'{y}', \n",
    "            ha='center', \n",
    "            va='center', \n",
    "            fontweight='bold', \n",
    "            size=10,\n",
    "            color='white',\n",
    "            bbox=dict(facecolor='#445A64'))\n",
    "\n",
    "    b.set_xlabel('') \n",
    "    b.set_ylabel('Average PM 2.5 μg/m3')\n",
    "    b.set(xticklabels= x_labels)\n",
    "    \n",
    "    plt.show()"
   ]
  },
  {
   "cell_type": "code",
   "execution_count": null,
   "metadata": {},
   "outputs": [],
   "source": [
    "# x axis options - morning school run,\n",
    "#                  afternoon school run,\n",
    "#                  school run,\n",
    "#                  awake_asleep\n",
    "# make_box(order, x, x_labels, y, pollutant)"
   ]
  },
  {
   "cell_type": "markdown",
   "metadata": {},
   "source": [
    "### Average values marked on plot are MEDIAN values. Means are higher in all cases. Outliers have been masked. You can see outliers by changing 'showfliers' to True"
   ]
  },
  {
   "cell_type": "code",
   "execution_count": null,
   "metadata": {},
   "outputs": [],
   "source": [
    "make_box('Comparison between morning school run and rest of day',\n",
    "         ['school run', 'not morning school run'],\n",
    "        'morning school run',\n",
    "        ['School Run', 'Rest of Day'],\n",
    "        df[df['day_type']=='weekday'])"
   ]
  },
  {
   "cell_type": "code",
   "execution_count": null,
   "metadata": {},
   "outputs": [],
   "source": [
    "make_box('Comparison between afternoon school run and rest of day',\n",
    "         ['school run', 'not afternoon school run'],\n",
    "        'afternoon school run',\n",
    "        ['School Run', 'Rest of Day'],\n",
    "        df[df['day_type']=='weekday'])"
   ]
  },
  {
   "cell_type": "code",
   "execution_count": null,
   "metadata": {},
   "outputs": [],
   "source": [
    "make_box('Comparison between morning and afternoon school runs and rest of day',\n",
    "         ['school run', 'not school run'],\n",
    "        'school run',\n",
    "        ['School Run', 'Rest of Day'],\n",
    "        df[df['day_type']=='weekday'])"
   ]
  },
  {
   "cell_type": "code",
   "execution_count": null,
   "metadata": {},
   "outputs": [],
   "source": [
    "make_box('Comparison between night time and day time',\n",
    "         ['sleeping', 'awake'],\n",
    "        'awake_asleep',\n",
    "        ['Overnight', 'Daytime'],\n",
    "        df)"
   ]
  },
  {
   "cell_type": "code",
   "execution_count": null,
   "metadata": {},
   "outputs": [],
   "source": [
    "make_box('Comparison between public holidays and non public holidays',\n",
    "         ['public holiday', 'non-holiday'],\n",
    "        'public_hols',\n",
    "        ['Public Holiday', 'Non Public Holiday'],\n",
    "        df[df['day_type'] == 'weekday'])"
   ]
  },
  {
   "cell_type": "code",
   "execution_count": null,
   "metadata": {},
   "outputs": [],
   "source": [
    "make_box('Comparison between school holidays and non school holidays',\n",
    "         ['Term time', 'School Holiday'],\n",
    "        'school_hol',\n",
    "        ['School Holiday', 'Term Time'],\n",
    "        df)"
   ]
  },
  {
   "cell_type": "markdown",
   "metadata": {},
   "source": [
    "### It may be the case that the long summer holiday is influencing the lower average for school holiday PM2.5, since we know PM25 is lower in summer"
   ]
  },
  {
   "cell_type": "code",
   "execution_count": null,
   "metadata": {},
   "outputs": [],
   "source": [
    "make_box('Comparison between roadside and background',\n",
    "         ['roadside/kerbside', 'background'],\n",
    "        'sensor_position',\n",
    "        ['Roadside or Kerbside', 'Background'],\n",
    "        df)"
   ]
  },
  {
   "cell_type": "markdown",
   "metadata": {},
   "source": [
    "### 30% increase between roadside and background"
   ]
  },
  {
   "cell_type": "code",
   "execution_count": null,
   "metadata": {},
   "outputs": [],
   "source": [
    "make_box('Comparison between roadside and background during morning school run',\n",
    "         ['roadside/kerbside', 'background'],\n",
    "        'sensor_position',\n",
    "        ['Roadside or Kerbside', 'Background'],\n",
    "        df[(df['morning school run'] == 'school run') & (df['day_type'] == 'weekday')])"
   ]
  },
  {
   "cell_type": "markdown",
   "metadata": {},
   "source": [
    "### Looking at school statistics for 2019. Assuming a school day is between 0900 and 1600. Only considering schools in background locations"
   ]
  },
  {
   "cell_type": "code",
   "execution_count": null,
   "metadata": {},
   "outputs": [],
   "source": [
    "df['date_UTC'] = pd.to_datetime(df[\"date_UTC\"])\n",
    "df = df[df['date_UTC'].dt.year == 2019]\n",
    "\n",
    "df = df.set_index('date_UTC')"
   ]
  },
  {
   "cell_type": "code",
   "execution_count": null,
   "metadata": {},
   "outputs": [],
   "source": [
    "df_school = df.between_time('09:00','16:00').copy()"
   ]
  },
  {
   "cell_type": "code",
   "execution_count": null,
   "metadata": {},
   "outputs": [],
   "source": [
    "df_school = df_school[(df_school['school_hol'] == 'Term time') \n",
    "                      & (df_school['day_type'] == 'weekday') \n",
    "                      & (df_school['Site_Type_x'] == 'School')\n",
    "                      & (df_school['Type'] == 'Urban Background')]"
   ]
  },
  {
   "cell_type": "code",
   "execution_count": null,
   "metadata": {},
   "outputs": [],
   "source": [
    "#adding column for average during school hours no2\n",
    "df_school['avg_no2_school'] = df_school.groupby('pod_id_location', as_index=False)['no2_ugm3'].transform('mean') \n",
    "\n",
    "#adding column for average during school hours pm25\n",
    "df_school['avg_pm25_school'] = df_school.groupby('pod_id_location', as_index=False)['pm2_5_ugm3'].transform('mean') "
   ]
  },
  {
   "cell_type": "code",
   "execution_count": null,
   "metadata": {},
   "outputs": [],
   "source": [
    "def make_diurnal(type, pollutant, title):\n",
    "\n",
    "    plt.rcParams['figure.dpi'] = 150\n",
    "\n",
    "    col_order=[\"Monday\", \"Tuesday\", \"Wednesday\", \"Thursday\", \"Friday\"]\n",
    "\n",
    "    g = sns.relplot(x='hour', y=pollutant,\n",
    "                     col=\"w_day\", hue=\"Zone\",\n",
    "                     kind=type, ci=95, data=df_school, col_order=col_order)\n",
    "\n",
    "    axes = g.axes.flatten()\n",
    "    axes[0].set_title(\"Monday\")\n",
    "    axes[1].set_title(\"Tuesday\")\n",
    "    axes[2].set_title(\"Wednesday\")\n",
    "    axes[3].set_title(\"Thursday\")\n",
    "    axes[4].set_title(\"Friday\")\n",
    "\n",
    "    axes[0].set_ylabel(\"Hourly No2\")\n",
    "    for ax in axes:\n",
    "        ax.set_xlabel(\"Hour\")\n",
    "\n",
    "    g.fig.suptitle('Diurnal '+ type +' plot to show hourly '+ type +' for schools during term time and school hours', \n",
    "                   weight='semibold', \n",
    "                   y= 1.06, \n",
    "                   size='x-large')\n",
    "\n",
    "    #plt.margins(x=0)\n",
    "    #plt.subplots_adjust(hspace==, wspace=0)\n",
    "    plt.show()"
   ]
  },
  {
   "cell_type": "code",
   "execution_count": null,
   "metadata": {},
   "outputs": [],
   "source": [
    "#line or scatter - no2\n",
    "\n",
    "make_diurnal('scatter', 'no2_ugm3', 'No2')"
   ]
  },
  {
   "cell_type": "code",
   "execution_count": null,
   "metadata": {},
   "outputs": [],
   "source": [
    "#line or scatter - no2\n",
    "\n",
    "make_diurnal('scatter', 'pm2_5_ugm3', 'PM 2.5')"
   ]
  },
  {
   "cell_type": "code",
   "execution_count": null,
   "metadata": {},
   "outputs": [],
   "source": [
    "df_school_pm25 = df_school.copy()\n",
    "df_school_pm25['hourly_mean_sensor'] = df_school_pm25.groupby(['pod_id_location', df_school_pm25['hour']])['pm2_5_ugm3'].transform('mean') "
   ]
  },
  {
   "cell_type": "code",
   "execution_count": null,
   "metadata": {},
   "outputs": [],
   "source": [
    "df_school_pm25 = df_school_pm25.drop_duplicates(['hour','pod_id_location'],keep= 'first')"
   ]
  },
  {
   "cell_type": "code",
   "execution_count": null,
   "metadata": {},
   "outputs": [],
   "source": [
    "plt.rcParams['figure.figsize'] = [23, 8]\n",
    "plt.rcParams['figure.dpi'] = 300\n",
    "\n",
    "p = sns.lineplot(x='hour', y = 'hourly_mean_sensor', \n",
    "                 data = df_school_pm25,\n",
    "                 linewidth=3,\n",
    "                 color = 'r',\n",
    "                ci=95)\n",
    "\n",
    "\n",
    "#p.set(ylim=(10,100))\n",
    "p.set_title(\"Average school day PM 2.5 levels for background schools\\n\", size = 'x-large')\n",
    "\n",
    "q = sns.lineplot(x='hour', y = 'hourly_mean_sensor', \n",
    "                 data = df_school_pm25,\n",
    "                 hue = 'pod_id_location',\n",
    "                 alpha = 0.25,\n",
    "                 palette = 'tab20',\n",
    "                 legend = False)\n",
    "q.set(xlabel='Hour of day', ylabel='Average hourly PM 2.5 levels, µg/m3')\n",
    "\n",
    "plt.xticks(np.arange(min(df_school_pm25['hour']), max(df_school_pm25['hour'])+1, 1.0))\n",
    "plt.show()"
   ]
  },
  {
   "cell_type": "markdown",
   "metadata": {},
   "source": [
    "### We see PM 2.5 is worst during the morning, when children are walking to school. Should children be doing PE in the morning, or in the afternoon when PM 2.5 levels are lower. We see individual schools (fainter lines) have significantly different hourly averages."
   ]
  },
  {
   "cell_type": "code",
   "execution_count": null,
   "metadata": {},
   "outputs": [],
   "source": [
    "df_school_no2 = df_school.copy()\n",
    "df_school_no2['hourly_mean_sensor'] = df_school_no2.groupby(['pod_id_location', df_school_no2['hour']])['no2_ugm3'].transform('mean')"
   ]
  },
  {
   "cell_type": "code",
   "execution_count": null,
   "metadata": {},
   "outputs": [],
   "source": [
    "df_school_no2 = df_school_no2.drop_duplicates(['hour','pod_id_location'],keep= 'first')"
   ]
  },
  {
   "cell_type": "code",
   "execution_count": null,
   "metadata": {},
   "outputs": [],
   "source": [
    "plt.rcParams['figure.figsize'] = [23, 8]\n",
    "plt.rcParams['figure.dpi'] = 300\n",
    "\n",
    "p = sns.lineplot(x='hour', y = 'hourly_mean_sensor', \n",
    "                 data = df_school_no2,\n",
    "                 linewidth=3,\n",
    "                 color = 'r',\n",
    "                ci=95)\n",
    "\n",
    "\n",
    "#p.set(ylim=(10,100))\n",
    "p.set_title(\"Average school day No2 levels for background schools\\n\", size = 'x-large')\n",
    "\n",
    "q = sns.lineplot(x='hour', y = 'hourly_mean_sensor', \n",
    "                 data = df_school_no2,\n",
    "                 hue = 'pod_id_location',\n",
    "                 alpha = 0.25,\n",
    "                 palette = 'tab20',\n",
    "                 legend = False)\n",
    "q.set(xlabel='Hour of day', ylabel='Average hourly No2 levels, µg/m3')\n",
    "\n",
    "q.axhline(40, ls='--', linewidth=3, color='#000980', alpha = 0.5)\n",
    "q.text(16.4,39.4, \"EU\\nLimit\")\n",
    "\n",
    "plt.xticks(np.arange(min(df_school_no2['hour']), max(df_school_no2['hour'])+1, 1.0))\n",
    "plt.show()"
   ]
  },
  {
   "cell_type": "markdown",
   "metadata": {},
   "source": [
    "### Again No2 levels significantly higher in the morning, in many cases passing the 40 µg/m3 limit"
   ]
  },
  {
   "cell_type": "markdown",
   "metadata": {},
   "source": [
    "## Plotting these schools on a map"
   ]
  },
  {
   "cell_type": "code",
   "execution_count": null,
   "metadata": {},
   "outputs": [],
   "source": [
    "#turning df into GIS file\n",
    "geometry = [Point(xy) for xy in zip(df_school_no2.Longitude, df_school_no2.Latitude)]\n",
    "crs = {'init': 'epsg:4326'}\n",
    "gdf = gpd.GeoDataFrame(df_school_no2, crs = crs, geometry=geometry)\n",
    "gdf = gdf.to_crs({'init': 'epsg:3857'})"
   ]
  },
  {
   "cell_type": "code",
   "execution_count": null,
   "metadata": {},
   "outputs": [],
   "source": [
    "gdf = gdf.dropna(subset=['avg_no2_school'])\n",
    "gdf = gdf.drop_duplicates(subset=['pod_id_location'])"
   ]
  },
  {
   "cell_type": "code",
   "execution_count": null,
   "metadata": {},
   "outputs": [],
   "source": [
    "#loading ULEZ\n",
    "path = \"/Users/oliverpaul/Data_Science/EDF/LAEI - GIS geographies/Ultra_Low_Emissions_Zone.gpkg\"\n",
    "ULEZ = gpd.read_file(path)\n",
    "crs = {'init': 'epsg:27700'}\n",
    "ULEZ = gpd.GeoDataFrame(ULEZ, crs=crs)\n",
    "ULEZ = ULEZ.to_crs({'init': 'epsg:3857'})"
   ]
  },
  {
   "cell_type": "code",
   "execution_count": null,
   "metadata": {},
   "outputs": [],
   "source": [
    "plt.rcParams['figure.dpi'] = 300\n",
    "\n",
    "ax = gdf[gdf['avg_no2_school'] < 40].plot(figsize=(20, 20), markersize = (gdf[gdf['avg_no2_school'] < 40]['avg_no2_school'])**2.18, zorder = 50, alpha=0.5)\n",
    "g = gdf[gdf['avg_no2_school'] >= 40].plot(figsize=(20, 20), markersize = (gdf[gdf['avg_no2_school'] >= 40]['avg_no2_school'])**2.18, zorder = 50, alpha=0.5, facecolor='red', ax=ax)\n",
    "\n",
    "\n",
    "gdf.plot(ax=ax, markersize = 5, zorder = 50, facecolor='black')\n",
    "\n",
    "ULEZ.plot(figsize=(20, 20), edgecolor='k', facecolor='none', linewidth=2, zorder = 1, ax=ax)\n",
    "\n",
    "ctx.add_basemap(ax=ax, url=ctx.providers.Stamen.TonerLite)\n",
    "\n",
    "circ1 = Line2D([0], [0], linestyle=\"none\", marker=\"o\", markersize=17, markerfacecolor=\"lightgray\", alpha = 0.85)\n",
    "circ2 = Line2D([0], [0], linestyle=\"none\", marker=\"o\", markersize=8, markerfacecolor=\"lightgray\", alpha = 0.85)\n",
    "circ3 = Line2D([0], [0], linestyle=\"none\", marker=\"o\", markersize=6, markerfacecolor=\"red\", alpha = 1)\n",
    "\n",
    "leg = ax.legend((circ1, circ2, circ3), (\"Higher Average\", \"Lower Average\", \"Avg above 40 µg/m3\"), \n",
    "                      numpoints=1, \n",
    "                      loc=4).set_title('Max avg - 46.9 µg/m3\\nMin avg -  22.24 µg/m3\\n')\n",
    "\n",
    "ax.set_title('Locations of schools at background locations with relative average No2 levels for 2019 during school hours', \n",
    "                 fontdict={'fontsize': '20', 'fontweight' : '2'})\n",
    "\n",
    "plt.axis('off')\n",
    "plt.show()"
   ]
  },
  {
   "cell_type": "code",
   "execution_count": null,
   "metadata": {},
   "outputs": [],
   "source": [
    "#turning df into GIS file for pm2.5\n",
    "geometry = [Point(xy) for xy in zip(df_school_pm25.Longitude, df_school_pm25.Latitude)]\n",
    "crs = {'init': 'epsg:4326'}\n",
    "gdf_pm = gpd.GeoDataFrame(df_school_pm25, crs = crs, geometry=geometry)\n",
    "gdf_pm = gdf_pm.to_crs({'init': 'epsg:3857'})"
   ]
  },
  {
   "cell_type": "code",
   "execution_count": null,
   "metadata": {},
   "outputs": [],
   "source": [
    "gdf_pm = gdf_pm.dropna(subset=['avg_pm25_school'])\n",
    "gdf_pm = gdf_pm.drop_duplicates(subset=['pod_id_location'])"
   ]
  },
  {
   "cell_type": "code",
   "execution_count": null,
   "metadata": {},
   "outputs": [],
   "source": [
    "plt.rcParams['figure.dpi'] = 300\n",
    "\n",
    "ax = gdf_pm.plot(figsize=(20, 20), markersize = gdf_pm['avg_pm25_school']**3.5, zorder = 50, alpha=0.5)\n",
    "\n",
    "gdf_pm.plot(ax=ax, markersize = 5, zorder = 50, facecolor='black')\n",
    "\n",
    "ULEZ.plot(figsize=(20, 20), edgecolor='k', facecolor='none', linewidth=2, zorder = 1, ax=ax)\n",
    "\n",
    "ctx.add_basemap(ax=ax, url=ctx.providers.Stamen.TonerLite)\n",
    "\n",
    "circ1 = Line2D([0], [0], linestyle=\"none\", marker=\"o\", markersize=17, markerfacecolor=\"lightgray\", alpha = 0.85)\n",
    "circ2 = Line2D([0], [0], linestyle=\"none\", marker=\"o\", markersize=8, markerfacecolor=\"lightgray\", alpha = 0.85)\n",
    "\n",
    "leg = ax.legend((circ1, circ2), (\"Higher Average\", \"Lower Average\"), \n",
    "                      numpoints=1, \n",
    "                      loc=4).set_title('Max avg - 12.81 µg/m3\\nMin avg -  6.85 µg/m3\\n')\n",
    "\n",
    "ax.set_title('Locations of schools at background locations with relative average PM 2.5 levels for 2019 during school hours', \n",
    "                 fontdict={'fontsize': '20', 'fontweight' : '2'})\n",
    "\n",
    "plt.axis('off')\n",
    "plt.show()"
   ]
  },
  {
   "cell_type": "markdown",
   "metadata": {},
   "source": [
    "### Whilst high NO2 levels seems to be centered around area north of the river with high levels of congestion, the highest PM 2.5 levels seem to be to the east of the ULEZ. "
   ]
  },
  {
   "cell_type": "markdown",
   "metadata": {},
   "source": [
    "## LSOA analysis - Please note, the sample size is small. Look at the maps to see how many schools there are in each LSOA decile category for a sense check"
   ]
  },
  {
   "cell_type": "code",
   "execution_count": null,
   "metadata": {},
   "outputs": [],
   "source": [
    "#filtering df for schools, background, weekday, term time \n",
    "\n",
    "df_lsoa = df[(df['school_hol'] == 'Term time') \n",
    "             & (df['day_type'] == 'weekday') \n",
    "             & (df['Site_Type_x'] == 'School')\n",
    "             & (df['Type'] == 'Urban Background')].copy()"
   ]
  },
  {
   "cell_type": "code",
   "execution_count": null,
   "metadata": {},
   "outputs": [],
   "source": [
    "#Function for LSOA boxplots\n",
    "\n",
    "def box_lsoa(title, variable, order, data):\n",
    "    \n",
    "    fig, axs = plt.subplots(dpi=600, nrows=2, figsize=(9, 7))\n",
    "\n",
    "    a = sns.boxplot(x=variable, \n",
    "                    y='pm2_5_ugm3', \n",
    "                    data = data, \n",
    "                    showfliers = False,\n",
    "                    palette='Set2',\n",
    "                    order=order,\n",
    "                    ax=axs[0])\n",
    "\n",
    "    ax_0 = a.axes\n",
    "    lines = ax_0.get_lines()\n",
    "    categories = ax_0.get_xticks()\n",
    "\n",
    "    ax_0.axes.get_xaxis().set_ticks([])\n",
    "    ax_0.axes.get_xaxis().set_visible(False)\n",
    "\n",
    "    for cat in categories:\n",
    "\n",
    "        y = round(lines[4+cat*5].get_ydata()[0],1) \n",
    "\n",
    "        ax_0.text(\n",
    "            cat, \n",
    "            y, \n",
    "            f'{y}', \n",
    "            ha='center', \n",
    "            va='center', \n",
    "            fontweight='bold', \n",
    "            size=10,\n",
    "            color='white',\n",
    "            bbox=dict(facecolor='#445A64'))\n",
    "\n",
    "    a.figure.tight_layout()\n",
    "\n",
    "    ax_0.grid(False)\n",
    "    fig.suptitle(title, \n",
    "                 weight='semibold', \n",
    "                 y= 1.07, \n",
    "                 size='x-large')\n",
    "\n",
    "    a.set(ylabel='Average PM 2.5 concentrations in µg/m3')\n",
    "\n",
    "    ##----------------------------------\n",
    "\n",
    "    b = sns.boxplot(x=variable, \n",
    "                    y='no2_ugm3', \n",
    "                    data = data, \n",
    "                    showfliers = False,\n",
    "                    palette='Set2',\n",
    "                    order=order,\n",
    "                    ax=axs[1])\n",
    "\n",
    "    ax_1 = b.axes\n",
    "    lines = ax_1.get_lines()\n",
    "    categories = ax_1.get_xticks()\n",
    "\n",
    "    for cat in categories:\n",
    "\n",
    "        y = round(lines[4+cat*5].get_ydata()[0],1) \n",
    "\n",
    "        ax_1.text(\n",
    "            cat, \n",
    "            y, \n",
    "            f'{y}', \n",
    "            ha='center', \n",
    "            va='center', \n",
    "            fontweight='bold', \n",
    "            size=10,\n",
    "            color='white',\n",
    "            bbox=dict(facecolor='#445A64'))\n",
    "\n",
    "    b.figure.tight_layout()\n",
    "    b.set(ylabel='Average No2 concentrations in µg/m3')\n",
    "\n",
    "    ax_1.grid(False)"
   ]
  },
  {
   "cell_type": "code",
   "execution_count": null,
   "metadata": {},
   "outputs": [],
   "source": [
    "#converting lsoa demographic data to strings so we can plot at categories \n",
    "\n",
    "df_lsoa['Index of Multiple Deprivation (IMD) Decile (where 1 is most deprived 10% of LSOAs)'] = df_lsoa['Index of Multiple Deprivation (IMD) Decile (where 1 is most deprived 10% of LSOAs)'].astype(str)\n",
    "df_lsoa['Income Decile (where 1 is most deprived 10% of LSOAs)'] = df_lsoa['Income Decile (where 1 is most deprived 10% of LSOAs)'].astype(str)\n",
    "df_lsoa['Employment Decile (where 1 is most deprived 10% of LSOAs)'] = df_lsoa['Employment Decile (where 1 is most deprived 10% of LSOAs)'].astype(str)\n",
    "df_lsoa['Education, Skills and Training Decile (where 1 is most deprived 10% of LSOAs)'] = df_lsoa['Education, Skills and Training Decile (where 1 is most deprived 10% of LSOAs)'].astype(str)\n",
    "df_lsoa['Health Deprivation and Disability Decile (where 1 is most deprived 10% of LSOAs)'] = df_lsoa['Health Deprivation and Disability Decile (where 1 is most deprived 10% of LSOAs)'].astype(str)\n",
    "df_lsoa['Crime Decile (where 1 is most deprived 10% of LSOAs)'] = df_lsoa['Crime Decile (where 1 is most deprived 10% of LSOAs)'].astype(str)\n",
    "df_lsoa['Living Environment Decile (where 1 is most deprived 10% of LSOAs)'] = df_lsoa['Living Environment Decile (where 1 is most deprived 10% of LSOAs)'].astype(str)"
   ]
  },
  {
   "cell_type": "code",
   "execution_count": null,
   "metadata": {},
   "outputs": [],
   "source": [
    "def make_lsoa_map(variable, title):\n",
    "    \n",
    "    plt.rcParams['figure.dpi'] = 600\n",
    "\n",
    "    ax=gdf.plot(figsize=(10, 10), \n",
    "                column=variable, \n",
    "                cmap='Set2', \n",
    "                legend=True, \n",
    "                alpha=1, \n",
    "                categorical=True)\n",
    "    ULEZ.plot(ax=ax, edgecolor='k', facecolor='none', linewidth=2, alpha=0.5)\n",
    "    ctx.add_basemap(ax=ax, url=ctx.providers.Stamen.TonerLite)\n",
    "\n",
    "    ax.set_title(title, fontdict={'fontsize': 'x-large', 'fontweight' : 'semibold'})\n",
    "    plt.axis('off')"
   ]
  },
  {
   "cell_type": "code",
   "execution_count": null,
   "metadata": {},
   "outputs": [],
   "source": [
    "make_lsoa_map('Index of Multiple Deprivation (IMD) Decile (where 1 is most deprived 10% of LSOAs)',\n",
    "             'School locations with respect to LSOA areas for Multiple\\nDeprivation scores')"
   ]
  },
  {
   "cell_type": "code",
   "execution_count": null,
   "metadata": {},
   "outputs": [],
   "source": [
    "box_lsoa('Boxplot comparing PM 2.5 and No2 concentrations across LSOA\\nDeprivation Deciles (2019) for background school sites', \n",
    "         'Index of Multiple Deprivation (IMD) Decile (where 1 is most deprived 10% of LSOAs)',\n",
    "        None, df_lsoa)"
   ]
  },
  {
   "cell_type": "markdown",
   "metadata": {},
   "source": [
    "### Making the same plot, but during the morning school run"
   ]
  },
  {
   "cell_type": "code",
   "execution_count": null,
   "metadata": {},
   "outputs": [],
   "source": [
    "box_lsoa('Boxplot comparing PM 2.5 and No2 concentrations across LSOA\\nDeprivation Deciles (2019) for background school sites\\nduring morning school run', \n",
    "         'Index of Multiple Deprivation (IMD) Decile (where 1 is most deprived 10% of LSOAs)',\n",
    "        None, df_lsoa[df_lsoa['morning school run'] == 'school run'])"
   ]
  },
  {
   "cell_type": "markdown",
   "metadata": {},
   "source": [
    "### Whilst there doesnt seem to be a trend between deprivation deciles, note that there is a 27% difference between No2 exposure between the second most deprived decile and the second least deprived decile (2nd and 9th) rising to 32% during the morning school run/rush hour. Since we have a very small sample for each LOSA category, this analysis should be extended to increase sample size."
   ]
  },
  {
   "cell_type": "code",
   "execution_count": null,
   "metadata": {},
   "outputs": [],
   "source": [
    "df_imd = pd.DataFrame({\n",
    "'Decile': [2,3,4,5,6,8,9],\n",
    "'Day Median': [32.6, 32.5, 28.2, 24.4, 29.4, 31.5, 24.7],\n",
    "'School Run Median': [40.9, 39.8, 35.4, 31.2, 33.6, 42.8, 29.5]})"
   ]
  },
  {
   "cell_type": "code",
   "execution_count": null,
   "metadata": {},
   "outputs": [],
   "source": [
    "x = df_imd['Day Median']\n",
    "y = df_imd['School Run Median']\n",
    "\n",
    "df_imd['percentage increase'] = ((y-x)/x)*100"
   ]
  },
  {
   "cell_type": "code",
   "execution_count": null,
   "metadata": {},
   "outputs": [],
   "source": [
    "ax = sns.barplot(x='Decile', y='percentage increase', data = df_imd, palette='Set2')\n",
    "ax.set_title(\"Percentage increase in No2 exposure between average day hours and morning school run for IMD locations\", size = 'x-large')\n",
    "ax.set(xlabel='Decile', ylabel='Percentage Increase')\n",
    "plt.show()"
   ]
  },
  {
   "cell_type": "code",
   "execution_count": null,
   "metadata": {},
   "outputs": [],
   "source": [
    "make_lsoa_map('Employment Decile (where 1 is most deprived 10% of LSOAs)',\n",
    "             'School locations with respect to LSOA areas for Employment\\nDeprivation scores')"
   ]
  },
  {
   "cell_type": "code",
   "execution_count": null,
   "metadata": {},
   "outputs": [],
   "source": [
    "box_lsoa('Boxplot comparing PM 2.5 and No2 concentrations across\\nLSOA Deprivation Deciles (2019) for school background sites', \n",
    "         'Employment Decile (where 1 is most deprived 10% of LSOAs)',\n",
    "        ['1','2','3','4','5','6','8','9', '10'], \n",
    "         df_lsoa)"
   ]
  },
  {
   "cell_type": "code",
   "execution_count": null,
   "metadata": {},
   "outputs": [],
   "source": [
    "box_lsoa('Boxplot comparing PM 2.5 and No2 concentrations across\\nLSOA Deprivation Deciles (2019) for school background sites\\n during school run', \n",
    "         'Employment Decile (where 1 is most deprived 10% of LSOAs)',\n",
    "        ['1','2','3','4','5','6','8','9', '10'], \n",
    "         df_lsoa[df_lsoa['morning school run'] == 'school run'])"
   ]
  },
  {
   "cell_type": "markdown",
   "metadata": {},
   "source": [
    "### Again the schools in the most deprived employment decile have the highest exposure to NO2, however this school does seem to be in an affluent part of London..."
   ]
  },
  {
   "cell_type": "code",
   "execution_count": null,
   "metadata": {},
   "outputs": [],
   "source": [
    "df_employ = pd.DataFrame({\n",
    "'Decile': [1,2,3,4,5,6,8,9,10],\n",
    "'Day Median': [41.9, 30.5, 31.7, 31.9, 29, 31.2, 28.8, 23.6, 28],\n",
    "'School Run Median': [50.4, 37.8, 40.5, 39.7, 35, 34.7, 34.3, 27.3, 36.9]})"
   ]
  },
  {
   "cell_type": "code",
   "execution_count": null,
   "metadata": {},
   "outputs": [],
   "source": [
    "x = df_employ['Day Median']\n",
    "y = df_employ['School Run Median']\n",
    "\n",
    "df_employ['percentage increase'] = ((y-x)/x)*100"
   ]
  },
  {
   "cell_type": "code",
   "execution_count": null,
   "metadata": {},
   "outputs": [],
   "source": [
    "ax = sns.barplot(x='Decile', y='percentage increase', data = df_employ, palette='Set2') \n",
    "ax.set_title(\"Percentage increase in No2 exposure between average day hours and morning school run for Employment deprivation locations\", size = 'x-large')\n",
    "ax.set(xlabel='Decile', ylabel='Percentage Increase')\n",
    "plt.show()"
   ]
  },
  {
   "cell_type": "code",
   "execution_count": null,
   "metadata": {},
   "outputs": [],
   "source": [
    "make_lsoa_map('Living Environment Decile (where 1 is most deprived 10% of LSOAs)',\n",
    "             'School locations with respect to LSOA areas for Living Environment\\nDeprivation scores')"
   ]
  },
  {
   "cell_type": "code",
   "execution_count": null,
   "metadata": {},
   "outputs": [],
   "source": [
    "box_lsoa('Boxplot comparing PM 2.5 and No2 concentrations across LSOA Deprivation\\nDeciles (2019) across school background sites', \n",
    "         'Living Environment Decile (where 1 is most deprived 10% of LSOAs)',\n",
    "        None, df_lsoa)"
   ]
  },
  {
   "cell_type": "code",
   "execution_count": null,
   "metadata": {},
   "outputs": [],
   "source": [
    "box_lsoa('Boxplot comparing PM 2.5 and No2 concentrations across LSOA Deprivation\\nDeciles (2019) across school background sites during school run', \n",
    "         'Living Environment Decile (where 1 is most deprived 10% of LSOAs)',\n",
    "        None, df_lsoa[df_lsoa['morning school run'] == 'school run'])"
   ]
  },
  {
   "cell_type": "code",
   "execution_count": null,
   "metadata": {},
   "outputs": [],
   "source": [
    "df_living = pd.DataFrame({\n",
    "'Decile': [1,2,3,4,5,8],\n",
    "'Day Median': [31.3, 33, 29.5, 31.1, 24.2, 23.6],\n",
    "'School Run Median': [40.8, 41, 36, 37.8, 29.6, 27.3]})"
   ]
  },
  {
   "cell_type": "code",
   "execution_count": null,
   "metadata": {},
   "outputs": [],
   "source": [
    "x = df_living['Day Median']\n",
    "y = df_living['School Run Median']\n",
    "\n",
    "df_living['percentage increase'] = ((y-x)/x)*100"
   ]
  },
  {
   "cell_type": "code",
   "execution_count": null,
   "metadata": {},
   "outputs": [],
   "source": [
    "ax = sns.barplot(x='Decile', y='percentage increase', data = df_living, palette='Set2') \n",
    "ax.set_title(\"Percentage increase in No2 exposure between average day hours and morning school run for living environment deprivation locations\", size = 'x-large')\n",
    "ax.set(xlabel='Decile', ylabel='Percentage Increase') \n",
    "plt.show()"
   ]
  },
  {
   "cell_type": "markdown",
   "metadata": {},
   "source": [
    "Adding categories for pollution ranges "
   ]
  },
  {
   "cell_type": "code",
   "execution_count": null,
   "metadata": {},
   "outputs": [],
   "source": [
    "def get_value_no2(range):\n",
    "    if range < 10:\n",
    "        return 'Below 10'\n",
    "    elif range < 20:\n",
    "        return 'Between 10 and 20'\n",
    "    elif range < 30:\n",
    "        return 'Between 20 and 30'\n",
    "    elif range < 40:\n",
    "        return 'Between 30 and 40'\n",
    "    elif range >= 40:\n",
    "        return 'Above 40'\n",
    "    else:\n",
    "        return np.nan"
   ]
  },
  {
   "cell_type": "code",
   "execution_count": null,
   "metadata": {},
   "outputs": [],
   "source": [
    "def get_value_pm(range):\n",
    "    if range < 3:\n",
    "        return 'Below 3'\n",
    "    elif range < 6:\n",
    "        return 'Between 3 and 6'\n",
    "    elif range < 9:\n",
    "        return 'Between 6 and 9'\n",
    "    elif range < 12:\n",
    "        return 'Between 9 and 12'\n",
    "    elif range >= 12:\n",
    "        return 'Above 12'\n",
    "    else:\n",
    "        return np.nan\n",
    "    \n",
    "#very bad coding... don't do this if dataframe is large!"
   ]
  },
  {
   "cell_type": "code",
   "execution_count": null,
   "metadata": {},
   "outputs": [],
   "source": [
    "df_school['range_no2'] = df_school.apply(lambda x: get_value_no2(x['no2_ugm3']), axis=1)\n",
    "df_school['range_pm25'] = df_school.apply(lambda x: get_value_pm(x['pm2_5_ugm3']), axis=1)"
   ]
  },
  {
   "cell_type": "code",
   "execution_count": null,
   "metadata": {},
   "outputs": [],
   "source": [
    "order = ['Below 10', 'Between 10 and 20', 'Between 20 and 30', 'Between 30 and 40', 'Above 40']\n",
    "\n",
    "fig, ax = plt.subplots(figsize=(20,10))\n",
    "ax = sns.countplot(ax=ax,x='range_no2', data=df_school, order=order, palette = 'Set2')\n",
    "\n",
    "plt.xlabel('Exposure range µg/m3', fontsize=18)\n",
    "plt.ylabel('Hour count', fontsize=18)\n",
    "plt.title('Count of total hours exposed for binned ranges across all schools during school hours\\nin background locations 2019 - No2',\n",
    "         fontsize = 20)\n",
    "\n",
    "for i in ax.patches:\n",
    "    height = i.get_height()\n",
    "    ax.text(i.get_x()+i.get_width()/2., height + 100,height ,ha=\"center\")"
   ]
  },
  {
   "cell_type": "code",
   "execution_count": null,
   "metadata": {},
   "outputs": [],
   "source": [
    "order = ['Below 3', 'Between 3 and 6', 'Between 6 and 9', 'Between 9 and 12', 'Above 12']\n",
    "\n",
    "fig, ax = plt.subplots(figsize=(20,10))\n",
    "ax = sns.countplot(ax=ax,x='range_pm25', data=df_school, order=order, palette = 'Set2')\n",
    "\n",
    "plt.xlabel('Exposure range µg/m3', fontsize=18)\n",
    "plt.ylabel('Hour count', fontsize=18)\n",
    "plt.title('Count of total hours exposed for binned ranges across all schools during school hours\\nin background locations 2019 - PM 2.5',\n",
    "         fontsize = 20)\n",
    "\n",
    "for i in ax.patches:\n",
    "    height = i.get_height()\n",
    "    ax.text(i.get_x()+i.get_width()/2., height + 50,height ,ha=\"center\")"
   ]
  },
  {
   "cell_type": "code",
   "execution_count": null,
   "metadata": {},
   "outputs": [],
   "source": [
    "sns.distplot(df_school['no2_ugm3'].dropna(), bins=100, rug=True)\n",
    "plt.title('Full distrubution for No2 during school hours', size = 20)\n",
    "plt.show()"
   ]
  },
  {
   "cell_type": "code",
   "execution_count": null,
   "metadata": {},
   "outputs": [],
   "source": [
    "sns.distplot(df_school['pm2_5_ugm3'].dropna(), bins=100, rug=True)\n",
    "plt.title('Full distrubution for PM2.5 during school hours', size = 20)\n",
    "plt.show()"
   ]
  },
  {
   "cell_type": "code",
   "execution_count": null,
   "metadata": {},
   "outputs": [],
   "source": []
  }
 ],
 "metadata": {
  "kernelspec": {
   "display_name": "Python 3",
   "language": "python",
   "name": "python3"
  },
  "language_info": {
   "codemirror_mode": {
    "name": "ipython",
    "version": 3
   },
   "file_extension": ".py",
   "mimetype": "text/x-python",
   "name": "python",
   "nbconvert_exporter": "python",
   "pygments_lexer": "ipython3",
   "version": "3.7.4"
  }
 },
 "nbformat": 4,
 "nbformat_minor": 4
}
