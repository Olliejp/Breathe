{
 "cells": [
  {
   "cell_type": "code",
   "execution_count": null,
   "metadata": {},
   "outputs": [],
   "source": [
    "import pandas as pd\n",
    "import numpy as np\n",
    "import matplotlib.dates as mdates\n",
    "import matplotlib.pyplot as plt\n",
    "import seaborn as sns\n",
    "\n",
    "%matplotlib inline\n",
    "from pandas.plotting import register_matplotlib_converters\n",
    "register_matplotlib_converters()\n",
    "\n",
    "## Spatial Manipulation\n",
    "import geopandas as gpd\n",
    "from shapely.geometry import Point\n",
    "\n",
    "## Mapping\n",
    "import folium\n",
    "from folium import plugins\n",
    "\n",
    "## Misc\n",
    "import functools\n",
    "from itertools import product\n",
    "import contextily as ctx\n",
    "\n",
    "pd.options.display.max_columns = None\n",
    "#pd.options.display.max_rows = None\n",
    "\n",
    "from mpl_toolkits.axes_grid1 import make_axes_locatable"
   ]
  },
  {
   "cell_type": "markdown",
   "metadata": {},
   "source": [
    "## Highlighting where sensors are on the map "
   ]
  },
  {
   "cell_type": "code",
   "execution_count": null,
   "metadata": {},
   "outputs": [],
   "source": [
    "#import base file\n",
    "df = pd.read_csv(\"pm_no_clean.csv\", index_col=0)"
   ]
  },
  {
   "cell_type": "code",
   "execution_count": null,
   "metadata": {},
   "outputs": [],
   "source": [
    "df = df.drop_duplicates(subset=['pod_id_location'])"
   ]
  },
  {
   "cell_type": "code",
   "execution_count": null,
   "metadata": {},
   "outputs": [],
   "source": [
    "#turning df into GIS file\n",
    "geometry = [Point(xy) for xy in zip(df.Longitude, df.Latitude)]\n",
    "crs = {'init': 'epsg:4326'}\n",
    "gdf = gpd.GeoDataFrame(df, crs = crs, geometry=geometry)\n",
    "gdf = gdf.to_crs({'init': 'epsg:3857'})"
   ]
  },
  {
   "cell_type": "code",
   "execution_count": null,
   "metadata": {},
   "outputs": [],
   "source": [
    "#import ULEZ\n",
    "path = \"/Users/oliverpaul/Data_Science/EDF/LAEI - GIS geographies/Ultra_Low_Emissions_Zone.gpkg\"\n",
    "ULEZ = gpd.read_file(path)\n",
    "crs = {'init': 'epsg:27700'}\n",
    "ULEZ = gpd.GeoDataFrame(ULEZ, crs=crs)\n",
    "ULEZ = ULEZ.to_crs({'init': 'epsg:3857'})"
   ]
  },
  {
   "cell_type": "code",
   "execution_count": null,
   "metadata": {},
   "outputs": [],
   "source": [
    "plt.rcParams['figure.dpi'] = 600\n",
    "\n",
    "ax=gdf.plot(figsize=(10, 10), column='Site_Type_x', cmap='Paired', legend=True, alpha=0.9)\n",
    "ULEZ.plot(ax=ax, edgecolor='k', facecolor='none', linewidth=2, alpha=0.5)\n",
    "ctx.add_basemap(ax=ax, url=ctx.providers.Stamen.TonerLite)\n",
    "\n",
    "ax.set_title('Breathe London Sensor Locations with ULEZ', fontdict={'fontsize': '25', 'fontweight' : '2'})\n",
    "plt.axis('off')\n",
    "\n",
    "#plt.savefig('/Users/oliverpaul/Data_Science/EDF/plots/sensor_locations.png', bbox_inches = 'tight', pad_inches = 0.1)\n",
    "plt.show()"
   ]
  },
  {
   "cell_type": "code",
   "execution_count": null,
   "metadata": {},
   "outputs": [],
   "source": [
    "plt.rcParams['figure.dpi'] = 600\n",
    "\n",
    "ax=gdf.plot(figsize=(10, 10), column='sensor_position', cmap='Paired', legend=True, alpha=0.9)\n",
    "ULEZ.plot(ax=ax, edgecolor='k', facecolor='none', linewidth=2, alpha=0.5)\n",
    "ctx.add_basemap(ax=ax, url=ctx.providers.Stamen.TonerLite)\n",
    "\n",
    "ax.set_title('Sensor Location Types with ULEZ', fontdict={'fontsize': '25', 'fontweight' : '2'})\n",
    "plt.axis('off')\n",
    "\n",
    "#plt.savefig('/Users/oliverpaul/Data_Science/EDF/plots/sensor_locations.png', bbox_inches = 'tight', pad_inches = 0.1)\n",
    "plt.show()"
   ]
  },
  {
   "cell_type": "code",
   "execution_count": null,
   "metadata": {},
   "outputs": [],
   "source": [
    "plt.rcParams['figure.dpi'] = 600\n",
    "\n",
    "ax=gdf[(gdf['Site_Type_x'] == 'School')].plot(figsize=(10, 10), \n",
    "                                              color=\"dodgerblue\", \n",
    "                                              alpha=0.8, \n",
    "                                              markersize = 80)\n",
    "\n",
    "ULEZ.plot(ax=ax, \n",
    "          edgecolor='k', \n",
    "          facecolor='none', \n",
    "          linewidth=2, \n",
    "          alpha=0.5)\n",
    "\n",
    "ctx.add_basemap(ax=ax, url=ctx.providers.Stamen.TonerLite)\n",
    "\n",
    "ax.set_title('Breathe London School Locations with ULEZ', fontdict={'fontsize': '25', 'fontweight' : '2'})\n",
    "plt.axis('off')\n",
    "plt.show()"
   ]
  },
  {
   "cell_type": "markdown",
   "metadata": {},
   "source": [
    "## Looking at tempural patterns in data"
   ]
  },
  {
   "cell_type": "code",
   "execution_count": null,
   "metadata": {},
   "outputs": [],
   "source": [
    "#import base file\n",
    "df_1 = pd.read_csv(\"pm_no_clean.csv\", index_col=0)"
   ]
  },
  {
   "cell_type": "code",
   "execution_count": null,
   "metadata": {},
   "outputs": [],
   "source": [
    "df_1['date_UTC'] = pd.to_datetime(df_1[\"date_UTC\"])"
   ]
  },
  {
   "cell_type": "code",
   "execution_count": null,
   "metadata": {},
   "outputs": [],
   "source": [
    "plt.rcParams['figure.dpi'] = 150\n",
    "\n",
    "col_order=[\"Monday\", \"Tuesday\", \"Wednesday\", \"Thursday\", \"Friday\", \"Saturday\", \"Sunday\"]\n",
    "\n",
    "g = sns.relplot(x='hour', y=\"pm2_5_ugm3\",\n",
    "                 col=\"w_day\", hue=\"Zone\",\n",
    "                 kind=\"scatter\", ci=95, data=df_1, col_order=col_order)\n",
    "\n",
    "axes = g.axes.flatten()\n",
    "axes[0].set_title(\"Monday\")\n",
    "axes[1].set_title(\"Tuesday\")\n",
    "axes[2].set_title(\"Wednesday\")\n",
    "axes[3].set_title(\"Thursday\")\n",
    "axes[4].set_title(\"Friday\")\n",
    "axes[5].set_title(\"Saturday\")\n",
    "axes[6].set_title(\"Sunday\")\n",
    "\n",
    "axes[0].set_ylabel(\"Hourly PM2.5\")\n",
    "for ax in axes:\n",
    "    ax.set_xlabel(\"Hour\")\n",
    "    \n",
    "g.fig.suptitle('Diurnal scatter plot to show hourly PM 2.5 values between ULEZ and non-ULEZ sites', \n",
    "               weight='semibold', \n",
    "               y= 1.06, \n",
    "               size='x-large')\n",
    "\n",
    "plt.margins(x=0)\n",
    "plt.subplots_adjust(hspace=0, wspace=0)"
   ]
  },
  {
   "cell_type": "code",
   "execution_count": null,
   "metadata": {},
   "outputs": [],
   "source": [
    "plt.rcParams['figure.dpi'] = 150\n",
    "\n",
    "col_order=[\"Monday\", \"Tuesday\", \"Wednesday\", \"Thursday\", \"Friday\", \"Saturday\", \"Sunday\"]\n",
    "\n",
    "g = sns.relplot(x='hour', y=\"pm2_5_ugm3\",\n",
    "                 col=\"w_day\", hue=\"Zone\",\n",
    "                 kind=\"line\", ci=95, data=df_1, col_order=col_order)\n",
    "\n",
    "axes = g.axes.flatten()\n",
    "axes[0].set_title(\"Monday\")\n",
    "axes[1].set_title(\"Tuesday\")\n",
    "axes[2].set_title(\"Wednesday\")\n",
    "axes[3].set_title(\"Thursday\")\n",
    "axes[4].set_title(\"Friday\")\n",
    "axes[5].set_title(\"Saturday\")\n",
    "axes[6].set_title(\"Sunday\")\n",
    "\n",
    "axes[0].set_ylabel(\"Hourly Average PM2.5\")\n",
    "for ax in axes:\n",
    "    ax.set_xlabel(\"Hour\")\n",
    "    \n",
    "g.fig.suptitle('Diurnal plot to show hourly average PM 2.5 values between ULEZ and non-ULEZ sites', \n",
    "               weight='semibold', \n",
    "               y= 1.06, \n",
    "               size='x-large')\n",
    "\n",
    "plt.margins(x=0)\n",
    "plt.subplots_adjust(hspace=0, wspace=0)\n"
   ]
  },
  {
   "cell_type": "code",
   "execution_count": null,
   "metadata": {},
   "outputs": [],
   "source": [
    "plt.rcParams['figure.dpi'] = 150\n",
    "\n",
    "col_order=[\"Monday\", \"Tuesday\", \"Wednesday\", \"Thursday\", \"Friday\", \"Saturday\", \"Sunday\"]\n",
    "\n",
    "g = sns.relplot(x='hour', y=\"no2_ugm3\",\n",
    "                 col=\"w_day\", hue=\"Zone\",\n",
    "                 kind=\"line\", ci=95, data=df_1, col_order=col_order)\n",
    "\n",
    "axes = g.axes.flatten()\n",
    "axes[0].set_title(\"Monday\")\n",
    "axes[1].set_title(\"Tuesday\")\n",
    "axes[2].set_title(\"Wednesday\")\n",
    "axes[3].set_title(\"Thursday\")\n",
    "axes[4].set_title(\"Friday\")\n",
    "axes[5].set_title(\"Saturday\")\n",
    "axes[6].set_title(\"Sunday\")\n",
    "\n",
    "axes[0].set_ylabel(\"Hourly Average No2\")\n",
    "for ax in axes:\n",
    "    ax.set_xlabel(\"Hour\")\n",
    "    \n",
    "g.fig.suptitle('Diurnal plot to show hourly average No2 values between ULEZ and non-ULEZ sites', \n",
    "               weight='semibold', \n",
    "               y= 1.06, \n",
    "               size='x-large')\n",
    "\n",
    "\n",
    "plt.margins(x=0)\n",
    "plt.subplots_adjust(hspace=0, wspace=0)"
   ]
  },
  {
   "cell_type": "code",
   "execution_count": null,
   "metadata": {},
   "outputs": [],
   "source": [
    "plt.rcParams['figure.dpi'] = 150\n",
    "\n",
    "col_order=[\"Monday\", \"Tuesday\", \"Wednesday\", \"Thursday\", \"Friday\", \"Saturday\", \"Sunday\"]\n",
    "\n",
    "g = sns.relplot(x='hour', y=\"no2_ugm3\",\n",
    "                 col=\"w_day\", hue=\"Zone\",\n",
    "                 kind=\"scatter\", ci=95, data=df_1, col_order=col_order)\n",
    "\n",
    "axes = g.axes.flatten()\n",
    "axes[0].set_title(\"Monday\")\n",
    "axes[1].set_title(\"Tuesday\")\n",
    "axes[2].set_title(\"Wednesday\")\n",
    "axes[3].set_title(\"Thursday\")\n",
    "axes[4].set_title(\"Friday\")\n",
    "axes[5].set_title(\"Saturday\")\n",
    "axes[6].set_title(\"Sunday\")\n",
    "\n",
    "axes[0].set_ylabel(\"Hourly No2\")\n",
    "for ax in axes:\n",
    "    ax.set_xlabel(\"Hour\")\n",
    "    \n",
    "for ax in axes:\n",
    "    ax.axhline(200, ls='--', linewidth=3, color='red')\n",
    "\n",
    "g.fig.suptitle('Diurnal scatter plot to show hourly No2 values between ULEZ and non-ULEZ sites', \n",
    "               weight='semibold', \n",
    "               y= 1.06, \n",
    "               size='x-large')\n",
    "\n",
    "plt.text(25,120, \"*EU limit of\\n18 times per year\")\n",
    "\n",
    "\n",
    "plt.margins(x=0)\n",
    "plt.subplots_adjust(hspace=0, wspace=0)"
   ]
  },
  {
   "cell_type": "markdown",
   "metadata": {},
   "source": [
    "### We see PM25 and NO2 have different profiles, PM25 tends to be high during the evening and early morning, seemingly correlated with temperature. This could be due to higher pressure trapping particles at ground level"
   ]
  },
  {
   "cell_type": "code",
   "execution_count": null,
   "metadata": {},
   "outputs": [],
   "source": [
    "plt.rcParams['figure.dpi'] = 150\n",
    "\n",
    "col_order=[\"Spring\", \"Summer\", \"Autumn\", \"Winter\"]\n",
    "\n",
    "g = sns.relplot(x='hour', y=\"no2_ugm3\",\n",
    "                 col=\"season\", hue=\"Zone\",\n",
    "                 kind=\"line\", ci=95, data=df_1, col_order=col_order)\n",
    "\n",
    "axes = g.axes.flatten()\n",
    "axes[0].set_title(\"Spring\")\n",
    "axes[1].set_title(\"Summer\")\n",
    "axes[2].set_title(\"Autumn\")\n",
    "axes[3].set_title(\"Winter\")\n",
    "\n",
    "axes[0].set_ylabel(\"Hourly Average No2\")\n",
    "for ax in axes:\n",
    "    ax.set_xlabel(\"Hour\")\n",
    "    \n",
    "g.fig.suptitle('Seasonal comparison of hourly No2 values between ULEZ and non-ULEZ sites', \n",
    "               weight='semibold', \n",
    "               y= 1.06, \n",
    "               size='x-large')\n",
    "\n",
    "\n",
    "#plt.margins(x=0)\n",
    "#plt.subplots_adjust(hspace=0, wspace=0)\n",
    "\n",
    "plt.show()"
   ]
  },
  {
   "cell_type": "code",
   "execution_count": null,
   "metadata": {},
   "outputs": [],
   "source": [
    "plt.rcParams['figure.dpi'] = 150\n",
    "\n",
    "col_order=[\"Spring\", \"Summer\", \"Autumn\", \"Winter\"]\n",
    "\n",
    "g = sns.relplot(x='hour', y=\"pm2_5_ugm3\",\n",
    "                 col=\"season\", hue=\"Zone\",\n",
    "                 kind=\"line\", ci=95, data=df_1, col_order=col_order)\n",
    "\n",
    "axes = g.axes.flatten()\n",
    "axes[0].set_title(\"Spring\")\n",
    "axes[1].set_title(\"Summer\")\n",
    "axes[2].set_title(\"Autumn\")\n",
    "axes[3].set_title(\"Winter\")\n",
    "\n",
    "axes[0].set_ylabel(\"Hourly Average PM2.5\")\n",
    "for ax in axes:\n",
    "    ax.set_xlabel(\"Hour\")\n",
    "\n",
    "g.fig.suptitle('Seasonal comparison of hourly PM 2.5 values between ULEZ and non-ULEZ sites', \n",
    "               weight='semibold', \n",
    "               y= 1.06, \n",
    "               size='x-large')\n",
    "\n",
    "#plt.margins(x=0)\n",
    "#plt.subplots_adjust(hspace=0, wspace=0)\n",
    "\n",
    "plt.show()"
   ]
  },
  {
   "cell_type": "markdown",
   "metadata": {},
   "source": [
    "### We see the highest fluctuations in Spring, which makes sense since Spring sees the greatest difference in maximal and mimumal temperatures. High temperature gradients also produce strong thermal conditions, which will draw PM into higher altitudes"
   ]
  },
  {
   "cell_type": "code",
   "execution_count": null,
   "metadata": {},
   "outputs": [],
   "source": [
    "plt.rcParams['figure.dpi'] = 150\n",
    "\n",
    "col_order=[\"Monday\", \"Tuesday\", \"Wednesday\", \"Thursday\", \"Friday\", \"Saturday\", \"Sunday\"]\n",
    "\n",
    "g = sns.relplot(x='hour', y=\"pm2_5_ugm3\",\n",
    "                 col=\"w_day\", hue=\"sensor_position\",\n",
    "                 kind=\"line\", ci=95, data=df_1, col_order=col_order)\n",
    "\n",
    "axes = g.axes.flatten()\n",
    "axes[0].set_title(\"Monday\")\n",
    "axes[1].set_title(\"Tuesday\")\n",
    "axes[2].set_title(\"Wednesday\")\n",
    "axes[3].set_title(\"Thursday\")\n",
    "axes[4].set_title(\"Friday\")\n",
    "axes[5].set_title(\"Saturday\")\n",
    "axes[6].set_title(\"Sunday\")\n",
    "\n",
    "axes[0].set_ylabel(\"Hourly Average PM2.5\")\n",
    "for ax in axes:\n",
    "    ax.set_xlabel(\"Hour\")\n",
    "\n",
    "g.fig.suptitle('Diurnal plot to show hourly average PM 2.5 values between background and non-background sites', \n",
    "               weight='semibold', \n",
    "               y= 1.06, \n",
    "               size='x-large')\n",
    "\n",
    "plt.margins(x=0)\n",
    "plt.subplots_adjust(hspace=0, wspace=0)"
   ]
  },
  {
   "cell_type": "markdown",
   "metadata": {},
   "source": [
    "marking typical school run periods"
   ]
  },
  {
   "cell_type": "code",
   "execution_count": null,
   "metadata": {},
   "outputs": [],
   "source": [
    "plt.rcParams['figure.dpi'] = 150\n",
    "\n",
    "col_order=[\"Monday\", \"Tuesday\", \"Wednesday\", \"Thursday\", \"Friday\", \"Saturday\", \"Sunday\"]\n",
    "\n",
    "g = sns.relplot(x='hour', y=\"pm2_5_ugm3\",\n",
    "                 col=\"w_day\", hue=\"sensor_position\",\n",
    "                 kind=\"line\", ci=95, data=df_1, col_order=col_order)\n",
    "\n",
    "axes = g.axes.flatten()\n",
    "axes[0].set_title(\"Monday\")\n",
    "axes[1].set_title(\"Tuesday\")\n",
    "axes[2].set_title(\"Wednesday\")\n",
    "axes[3].set_title(\"Thursday\")\n",
    "axes[4].set_title(\"Friday\")\n",
    "axes[5].set_title(\"Saturday\")\n",
    "axes[6].set_title(\"Sunday\")\n",
    "\n",
    "axes[0].set_ylabel(\"Hourly Average PM2.5\")\n",
    "for ax in axes:\n",
    "    ax.set_xlabel(\"Hour\")\n",
    "    \n",
    "for ax in axes:\n",
    "    ax.axvline(7, ls='--', linewidth=1.5, color='red')\n",
    "    ax.axvline(9, ls='--', linewidth=1.5, color='red')\n",
    "\n",
    "g.fig.suptitle('Diurnal plot to show hourly average PM 2.5 values between background and non-background sites, typical school run hours marked in red', \n",
    "               weight='semibold', \n",
    "               y= 1.06, \n",
    "               size='x-large')\n",
    "\n",
    "plt.margins(x=0)\n",
    "plt.subplots_adjust(hspace=0, wspace=0)"
   ]
  },
  {
   "cell_type": "code",
   "execution_count": null,
   "metadata": {},
   "outputs": [],
   "source": [
    "plt.rcParams['figure.dpi'] = 150\n",
    "\n",
    "col_order=[\"Monday\", \"Tuesday\", \"Wednesday\", \"Thursday\", \"Friday\", \"Saturday\", \"Sunday\"]\n",
    "\n",
    "g = sns.relplot(x='hour', y=\"pm2_5_ugm3\",\n",
    "                 col=\"w_day\",\n",
    "                 kind=\"line\", ci=95, data=df_1, col_order=col_order)\n",
    "\n",
    "axes = g.axes.flatten()\n",
    "axes[0].set_title(\"Monday\")\n",
    "axes[1].set_title(\"Tuesday\")\n",
    "axes[2].set_title(\"Wednesday\")\n",
    "axes[3].set_title(\"Thursday\")\n",
    "axes[4].set_title(\"Friday\")\n",
    "axes[5].set_title(\"Saturday\")\n",
    "axes[6].set_title(\"Sunday\")\n",
    "\n",
    "axes[0].set_ylabel(\"Hourly Average PM2.5\")\n",
    "for ax in axes:\n",
    "    ax.set_xlabel(\"Hour\")\n",
    "    \n",
    "for ax in axes:\n",
    "    ax.axvline(7, ls='--', linewidth=1.5, color='red')\n",
    "    ax.axvline(9, ls='--', linewidth=1.5, color='red')\n",
    "\n",
    "g.fig.suptitle('Diurnal plot to show hourly average PM 2.5 values, typical school run hours marked in red ', \n",
    "               weight='semibold', \n",
    "               y= 1.06, \n",
    "               size='x-large')\n",
    "\n",
    "plt.margins(x=0)\n",
    "plt.subplots_adjust(hspace=0, wspace=0)"
   ]
  },
  {
   "cell_type": "markdown",
   "metadata": {},
   "source": [
    "We can see there is a relationship between PM25 levels and temperature"
   ]
  },
  {
   "cell_type": "code",
   "execution_count": null,
   "metadata": {},
   "outputs": [],
   "source": [
    "plt.rcParams['figure.dpi'] = 150\n",
    "\n",
    "col_order=[\"Monday\", \"Tuesday\", \"Wednesday\", \"Thursday\", \"Friday\", \"Saturday\", \"Sunday\"]\n",
    "\n",
    "g = sns.relplot(x='hour', y=\"temperature\",\n",
    "                 col=\"w_day\",\n",
    "                 kind=\"line\", ci=95, data=df_1, col_order=col_order)\n",
    "\n",
    "axes = g.axes.flatten()\n",
    "axes[0].set_title(\"Monday\")\n",
    "axes[1].set_title(\"Tuesday\")\n",
    "axes[2].set_title(\"Wednesday\")\n",
    "axes[3].set_title(\"Thursday\")\n",
    "axes[4].set_title(\"Friday\")\n",
    "axes[5].set_title(\"Saturday\")\n",
    "axes[6].set_title(\"Sunday\")\n",
    "\n",
    "axes[0].set_ylabel(\"Hourly Average PM2.5\")\n",
    "for ax in axes:\n",
    "    ax.set_xlabel(\"Hour\")\n",
    "\n",
    "g.fig.suptitle('Diurnal plot to show hourly average temperature', \n",
    "               weight='semibold', \n",
    "               y= 1.06, \n",
    "               size='x-large')\n",
    "\n",
    "plt.margins(x=0)\n",
    "plt.subplots_adjust(hspace=0, wspace=0)"
   ]
  },
  {
   "cell_type": "markdown",
   "metadata": {},
   "source": [
    "Splitting background from roadside for no2"
   ]
  },
  {
   "cell_type": "code",
   "execution_count": null,
   "metadata": {},
   "outputs": [],
   "source": [
    "plt.rcParams['figure.dpi'] = 150\n",
    "\n",
    "col_order=[\"Monday\", \"Tuesday\", \"Wednesday\", \"Thursday\", \"Friday\", \"Saturday\", \"Sunday\"]\n",
    "\n",
    "g = sns.relplot(x='hour', y=\"no2_ugm3\",\n",
    "                 col=\"w_day\", hue=\"sensor_position\",\n",
    "                 kind=\"line\", ci=95, data=df_1, col_order=col_order)\n",
    "\n",
    "axes = g.axes.flatten()\n",
    "axes[0].set_title(\"Monday\")\n",
    "axes[1].set_title(\"Tuesday\")\n",
    "axes[2].set_title(\"Wednesday\")\n",
    "axes[3].set_title(\"Thursday\")\n",
    "axes[4].set_title(\"Friday\")\n",
    "axes[5].set_title(\"Saturday\")\n",
    "axes[6].set_title(\"Sunday\")\n",
    "\n",
    "axes[0].set_ylabel(\"Hourly Average No2\")\n",
    "for ax in axes:\n",
    "    ax.set_xlabel(\"Hour\")\n",
    "    \n",
    "g.fig.suptitle('Diurnal plot to show hourly average No2 values between background and non-background sites', \n",
    "               weight='semibold', \n",
    "               y= 1.06, \n",
    "               size='x-large')\n",
    "\n",
    "plt.margins(x=0)\n",
    "plt.subplots_adjust(hspace=0, wspace=0)"
   ]
  },
  {
   "cell_type": "markdown",
   "metadata": {},
   "source": [
    "PM25 by hour, month and weekday"
   ]
  },
  {
   "cell_type": "code",
   "execution_count": null,
   "metadata": {},
   "outputs": [],
   "source": [
    "plt.rcParams['figure.dpi'] = 200\n",
    "#sns.set_style(\"whitegrid\")\n",
    "\n",
    "ax = sns.lineplot(x='hour', y=\"pm2_5_ugm3\", hue=\"Zone\", ci=95, data=df_1)#.grid(axis='x')\n",
    "\n",
    "\n",
    "plt.xlabel(\"Hour\")\n",
    "plt.ylabel(\"Average PM 2.5\")\n",
    "plt.title(\"Average hourly PM 2.5 in μg/m3 between\\nULEZ and non-ULEZ sites\", \n",
    "          weight='semibold',\n",
    "          size='x-large')\n",
    "plt.margins(x=0)\n"
   ]
  },
  {
   "cell_type": "code",
   "execution_count": null,
   "metadata": {},
   "outputs": [],
   "source": [
    "plt.rcParams['figure.dpi'] = 200\n",
    "#sns.set_style(\"whitegrid\")\n",
    "\n",
    "ax = sns.lineplot(x='hour', y=\"no2_ugm3\", hue=\"Zone\", ci=95, data=df_1)#.grid(axis='x')\n",
    "\n",
    "\n",
    "plt.xlabel(\"Hour\")\n",
    "plt.ylabel(\"Average No2\")\n",
    "plt.title(\"Average hourly No2 in μg/m3 between\\nULEZ and non-ULEZ sites\", \n",
    "          weight='semibold',\n",
    "          size='x-large')\n",
    "plt.margins(x=0)\n"
   ]
  },
  {
   "cell_type": "markdown",
   "metadata": {},
   "source": [
    "Weather effects on PM2.5 and NO2"
   ]
  },
  {
   "cell_type": "code",
   "execution_count": null,
   "metadata": {},
   "outputs": [],
   "source": [
    "df_wind_pm = df_1.groupby([df_1['compass']]).pm2_5_ugm3.mean().reset_index().dropna()\n",
    "df_wind_no2 = df_1.groupby([df_1['compass']]).no2_ugm3.mean().reset_index().dropna()"
   ]
  },
  {
   "cell_type": "code",
   "execution_count": null,
   "metadata": {},
   "outputs": [],
   "source": [
    "from math import pi\n",
    "\n",
    "df_wind = pd.DataFrame({\n",
    "'group': ['PM 2.5','No2'],\n",
    "'N': [13.02, 35.71],\n",
    "'NNE': [13.78, 36.45],\n",
    "'NE': [15.23, 36.75],\n",
    "'ENE': [17.80, 40.60],\n",
    "'E': [18.95, 44.37],\n",
    "'ESE': [20.06, 48.93],\n",
    "'SE': [17.58, 49.87],\n",
    "'SSE': [13.49, 50.36],\n",
    "'S': [12.03, 44.56],\n",
    "'SSW': [10.07, 39.37],\n",
    "'SW': [9.28, 37.75],\n",
    "'WSW': [8.63, 36.67],\n",
    "'W': [8.94, 37.42],\n",
    "'WNW': [10.74, 37.86],\n",
    "'NW': [10.36, 39.05],\n",
    "'NNW': [10.74, 36.90]\n",
    "})\n",
    "\n",
    " \n",
    "def radar(row, title, color):\n",
    " \n",
    "    categories=list(df_wind)[1:]\n",
    "    N = len(categories)\n",
    "\n",
    "    #for angles divide by number of variables\n",
    "    angles = [n / float(N) * 2 * pi for n in range(N)]\n",
    "    angles += angles[:1]\n",
    "\n",
    "    ax = plt.subplot(1,2,row+1, polar=True, ) #change 1,2 etc if plotting more than one row etc\n",
    "\n",
    "    #setting axis positon and direction:\n",
    "    ax.set_theta_offset(pi / 2)\n",
    "    ax.set_theta_direction(-1)\n",
    "\n",
    "    # Draw one axe per variable + add labels\n",
    "    plt.xticks(angles[:-1], categories, color='black', size=8)\n",
    "\n",
    "    #ylabels\n",
    "    ax.set_rlabel_position(0)\n",
    "    plt.yticks([10,20,30], [\"10\",\"20\",\"30\"], color=\"black\", size=7) #adjust ticks if plotting no2 - extend to beyond 60\n",
    "    plt.ylim(0,22)\n",
    "\n",
    "    #\n",
    "    values=df_wind.loc[row].drop('group').values.flatten().tolist()\n",
    "    values += values[:1]\n",
    "    ax.plot(angles, values, color=color, linewidth=2, linestyle='solid')\n",
    "    ax.fill(angles, values, color=color, alpha=0.4)\n",
    "\n",
    "    #Add title\n",
    "    plt.title(title, size=11, color='black', y=1.1)\n",
    " \n",
    "my_dpi=96\n",
    "plt.figure(figsize=(1000/my_dpi, 1000/my_dpi), dpi=my_dpi)\n",
    " \n",
    "my_palette = plt.cm.get_cmap(\"tab10\", len(df_wind.index))\n",
    " \n",
    "# Loop to plot\n",
    "#for row in range(0, len(df_wind.index)):\n",
    "#    radar( row=row, title='Average '+df_wind['group'][row] +' by wind direction μg/m3', color=my_palette(row))\n",
    "#radar( row=0, title=' Average PM 2.5 by wind direction μg/m3', color=my_palette(0)) #if plotting individually run this instead\n",
    "\n",
    "#plt.savefig('/Users/oliverpaul/Data_Science/EDF/plots/wind_pm25_average.png', bbox_inches = 'tight', pad_inches = 0.1)\n"
   ]
  },
  {
   "cell_type": "code",
   "execution_count": null,
   "metadata": {},
   "outputs": [],
   "source": [
    "radar( row=0, title=' Average PM 2.5 by wind direction μg/m3', color=my_palette(0))"
   ]
  },
  {
   "cell_type": "markdown",
   "metadata": {},
   "source": [
    "### We see that when the wind blows from Europe, average PM25 levels are more than double when winds blow from the Atlantic. Strong motivation for internations cooperation on air pollution. When plotting the same plot for No2 the variation is much less extreme, indicating that No2 is locally produced. "
   ]
  },
  {
   "cell_type": "code",
   "execution_count": null,
   "metadata": {},
   "outputs": [],
   "source": [
    "plt.rcParams['figure.dpi'] = 200\n",
    "#sns.set_style(\"whitegrid\")\n",
    "\n",
    "order = ['N','NNE', 'NE', 'ENE', 'E', 'ESE', 'SE', 'SSE', 'S', 'SSW', 'SW', 'WSW', 'W', 'WNW', 'NW', 'NNW']\n",
    "\n",
    "ax = sns.countplot(x='compass', data=df_1, order=order, alpha=0.9, palette=\"tab10\")\n",
    "\n",
    "ax.set_xticklabels(ax.get_xticklabels(), rotation=90)\n",
    "\n",
    "plt.xlabel(\"Wind Direction\")\n",
    "plt.ylabel(\"Number of measurements\")\n",
    "plt.title(\"Plot to show prevailing wind directions\", \n",
    "          weight='semibold',\n",
    "          size='large')\n",
    "\n",
    "ax.axes.get_yaxis().set_ticks([])"
   ]
  },
  {
   "cell_type": "markdown",
   "metadata": {},
   "source": [
    "Weather correlation PM2.5"
   ]
  },
  {
   "cell_type": "code",
   "execution_count": null,
   "metadata": {},
   "outputs": [],
   "source": [
    "pm_cor = df_1[['pm2_5_ugm3', 'motorway_min_dist', 'a_road_min_dist', 'temperature', 'windBearing', 'windSpeed', 'ozone', 'pressure']].dropna()"
   ]
  },
  {
   "cell_type": "code",
   "execution_count": null,
   "metadata": {},
   "outputs": [],
   "source": [
    "## Plot correlation matrix for pm25\n",
    "cmap = sns.diverging_palette(220, 20, sep=20, as_cmap=True)\n",
    "sns.clustermap(pm_cor.corr(), figsize= (20,20), cmap = cmap, annot=True).ax_row_dendrogram.set_visible(False)\n",
    "plt.show()"
   ]
  },
  {
   "cell_type": "code",
   "execution_count": null,
   "metadata": {},
   "outputs": [],
   "source": [
    "no2_cor = df_1[['no2_ugm3', 'motorway_min_dist', 'a_road_min_dist', 'temperature', 'windBearing', 'windSpeed', 'ozone', 'pressure']].dropna()"
   ]
  },
  {
   "cell_type": "code",
   "execution_count": null,
   "metadata": {},
   "outputs": [],
   "source": [
    "## Plot correlation matrix for no2\n",
    "cmap = sns.diverging_palette(220, 20, sep=20, as_cmap=True)\n",
    "sns.clustermap(no2_cor.corr(), figsize= (20,20), cmap = cmap, annot=True).ax_row_dendrogram.set_visible(False)\n",
    "\n",
    "plt.show()"
   ]
  },
  {
   "cell_type": "code",
   "execution_count": null,
   "metadata": {},
   "outputs": [],
   "source": [
    "pm_traffic_cor = df_1.drop_duplicates(subset=['pod_id_location'])\n",
    "pm_traffic_cor = pm_traffic_cor[['pm2_5_ugm3', ' VKM Motorcycle', ' VKM Petrol Car', ' VKM Diesel Car', ' VKM Taxi', ' VKM Electric Car', ' VKM Petrol LGV', ' VKM Diesel LGV', ' VKM Electric LGV', ' VKM Bus', ' VKM Coach', ' VKM Rigid HGV', ' VKM Artic HGV', ' VKM TOTAL']]"
   ]
  },
  {
   "cell_type": "code",
   "execution_count": null,
   "metadata": {},
   "outputs": [],
   "source": [
    "## Plot correlation matrix for pm25 traffic\n",
    "cmap = sns.diverging_palette(220, 20, sep=20, as_cmap=True)\n",
    "sns.clustermap(pm_traffic_cor.corr(), figsize= (20,20), cmap = cmap, annot=True).ax_row_dendrogram.set_visible(False)\n",
    "\n",
    "plt.show()"
   ]
  },
  {
   "cell_type": "code",
   "execution_count": null,
   "metadata": {},
   "outputs": [],
   "source": [
    "no2_traffic_cor = df_1.drop_duplicates(subset=['pod_id_location'])\n",
    "no2_traffic_cor = no2_traffic_cor[['no2_ugm3', ' VKM Motorcycle', ' VKM Petrol Car', ' VKM Diesel Car', ' VKM Taxi', ' VKM Electric Car', ' VKM Petrol LGV', ' VKM Diesel LGV', ' VKM Electric LGV', ' VKM Bus', ' VKM Coach', ' VKM Rigid HGV', ' VKM Artic HGV', ' VKM TOTAL']]"
   ]
  },
  {
   "cell_type": "code",
   "execution_count": null,
   "metadata": {},
   "outputs": [],
   "source": [
    "## Plot correlation matrix for no2 traffic\n",
    "cmap = sns.diverging_palette(220, 20, sep=20, as_cmap=True)\n",
    "sns.clustermap(no2_traffic_cor.corr(), figsize= (20,20), cmap = cmap, annot=True).ax_row_dendrogram.set_visible(False)\n",
    "\n",
    "plt.show()"
   ]
  },
  {
   "cell_type": "markdown",
   "metadata": {},
   "source": [
    "Looking at pm25 levels over bonfire weekend"
   ]
  },
  {
   "cell_type": "code",
   "execution_count": null,
   "metadata": {},
   "outputs": [],
   "source": [
    "def make_date_range_diurnal(data_range, title, pollutant):\n",
    "\n",
    "    plt.rcParams['figure.dpi'] = 150\n",
    "\n",
    "    col_order=[\"Monday\", \"Tuesday\", \"Wednesday\", \"Thursday\", \"Friday\", \"Saturday\", \"Sunday\"]\n",
    "\n",
    "    g = sns.relplot(x='hour', y=pollutant,\n",
    "                     col=\"w_day\",\n",
    "                     kind=\"line\", ci=95, data=data_range, col_order=col_order)\n",
    "\n",
    "\n",
    "    axes = g.axes.flatten()\n",
    "    axes[0].set_title(\"Monday\")\n",
    "    axes[1].set_title(\"Tuesday\")\n",
    "    axes[2].set_title(\"Wednesday\")\n",
    "    axes[3].set_title(\"Thursday\")\n",
    "    axes[4].set_title(\"Friday\")\n",
    "    axes[5].set_title(\"Saturday\")\n",
    "    axes[6].set_title(\"Sunday\")\n",
    "\n",
    "    axes[0].set_ylabel(\"Hourly Average PM2.5\")\n",
    "    for ax in axes:\n",
    "        ax.set_xlabel(\"Hour\")\n",
    "\n",
    "    g.fig.suptitle(title, \n",
    "                   weight='semibold', \n",
    "                   y= 1.06, \n",
    "                   size='x-large')\n",
    "\n",
    "    plt.margins(x=0)\n",
    "    plt.subplots_adjust(hspace=0, wspace=0)"
   ]
  },
  {
   "cell_type": "markdown",
   "metadata": {},
   "source": [
    "### Very difficult to compare one week to another.... hard to explain results"
   ]
  },
  {
   "cell_type": "code",
   "execution_count": null,
   "metadata": {},
   "outputs": [],
   "source": [
    "make_date_range_diurnal(df_1[(df_1['date_UTC'] >= '2019-11-04 00:00:00') & (df_1['date_UTC'] <= '2019-11-11 00:00:00')],\n",
    "                       'PM2.5 diurnal plot for Guy Fawkes week 2019 (Tuesday)',\n",
    "                       'pm2_5_ugm3')"
   ]
  },
  {
   "cell_type": "code",
   "execution_count": null,
   "metadata": {},
   "outputs": [],
   "source": [
    "make_date_range_diurnal(df_1[(df_1['date_UTC'] >= '2019-10-28 00:00:00') & (df_1['date_UTC'] <= '2019-11-04 00:00:00')],\n",
    "                       'PM2.5 diurnal plot for week prior to Guy Fawkes week 2019',\n",
    "                       'pm2_5_ugm3')"
   ]
  },
  {
   "cell_type": "markdown",
   "metadata": {},
   "source": [
    "Investigating demographics on pm25 and no2"
   ]
  },
  {
   "cell_type": "code",
   "execution_count": null,
   "metadata": {},
   "outputs": [],
   "source": [
    "#converting lsoa demographic data to strings so we can plot at categories \n",
    "\n",
    "df_1['Index of Multiple Deprivation (IMD) Decile (where 1 is most deprived 10% of LSOAs)'] = df_1['Index of Multiple Deprivation (IMD) Decile (where 1 is most deprived 10% of LSOAs)'].astype(str)\n",
    "df_1['Income Decile (where 1 is most deprived 10% of LSOAs)'] = df_1['Income Decile (where 1 is most deprived 10% of LSOAs)'].astype(str)\n",
    "df_1['Employment Decile (where 1 is most deprived 10% of LSOAs)'] = df_1['Employment Decile (where 1 is most deprived 10% of LSOAs)'].astype(str)\n",
    "df_1['Education, Skills and Training Decile (where 1 is most deprived 10% of LSOAs)'] = df_1['Education, Skills and Training Decile (where 1 is most deprived 10% of LSOAs)'].astype(str)\n",
    "df_1['Health Deprivation and Disability Decile (where 1 is most deprived 10% of LSOAs)'] = df_1['Health Deprivation and Disability Decile (where 1 is most deprived 10% of LSOAs)'].astype(str)\n",
    "df_1['Crime Decile (where 1 is most deprived 10% of LSOAs)'] = df_1['Crime Decile (where 1 is most deprived 10% of LSOAs)'].astype(str)\n",
    "df_1['Living Environment Decile (where 1 is most deprived 10% of LSOAs)'] = df_1['Living Environment Decile (where 1 is most deprived 10% of LSOAs)'].astype(str)"
   ]
  },
  {
   "cell_type": "code",
   "execution_count": null,
   "metadata": {},
   "outputs": [],
   "source": [
    "#where are sensors for different LSOA groups?\n",
    "\n",
    "#### make map "
   ]
  },
  {
   "cell_type": "code",
   "execution_count": null,
   "metadata": {},
   "outputs": [],
   "source": [
    "#Function for LSOA boxplots\n",
    "\n",
    "def box_lsoa(title, variable, order):\n",
    "    \n",
    "    fig, axs = plt.subplots(dpi=600, nrows=2, figsize=(9, 7))\n",
    "\n",
    "    a = sns.boxplot(x=variable, \n",
    "                    y='pm2_5_ugm3', \n",
    "                    data = df_1, \n",
    "                    showfliers = False,\n",
    "                    palette='Set2',\n",
    "                    order=order,\n",
    "                    ax=axs[0])\n",
    "\n",
    "    ax_0 = a.axes\n",
    "    lines = ax_0.get_lines()\n",
    "    categories = ax_0.get_xticks()\n",
    "\n",
    "    ax_0.axes.get_xaxis().set_ticks([])\n",
    "    ax_0.axes.get_xaxis().set_visible(False)\n",
    "\n",
    "    for cat in categories:\n",
    "\n",
    "        y = round(lines[4+cat*5].get_ydata()[0],1) \n",
    "\n",
    "        ax_0.text(\n",
    "            cat, \n",
    "            y, \n",
    "            f'{y}', \n",
    "            ha='center', \n",
    "            va='center', \n",
    "            fontweight='bold', \n",
    "            size=10,\n",
    "            color='white',\n",
    "            bbox=dict(facecolor='#445A64'))\n",
    "\n",
    "    a.figure.tight_layout()\n",
    "\n",
    "    ax_0.grid(False)\n",
    "    fig.suptitle(title, \n",
    "                 weight='semibold', \n",
    "                 y= 1.03, \n",
    "                 size='x-large')\n",
    "\n",
    "    a.set(ylabel='Average PM 2.5 concentrations in µg/m3')\n",
    "\n",
    "    ##----------------------------------\n",
    "\n",
    "    b = sns.boxplot(x=variable, \n",
    "                    y='no2_ugm3', \n",
    "                    data = df_1, \n",
    "                    showfliers = False,\n",
    "                    palette='Set2',\n",
    "                    order=order,\n",
    "                    ax=axs[1])\n",
    "\n",
    "    ax_1 = b.axes\n",
    "    lines = ax_1.get_lines()\n",
    "    categories = ax_1.get_xticks()\n",
    "\n",
    "    for cat in categories:\n",
    "\n",
    "        y = round(lines[4+cat*5].get_ydata()[0],1) \n",
    "\n",
    "        ax_1.text(\n",
    "            cat, \n",
    "            y, \n",
    "            f'{y}', \n",
    "            ha='center', \n",
    "            va='center', \n",
    "            fontweight='bold', \n",
    "            size=10,\n",
    "            color='white',\n",
    "            bbox=dict(facecolor='#445A64'))\n",
    "\n",
    "    b.figure.tight_layout()\n",
    "    b.set(ylabel='Average No2 concentrations in µg/m3')\n",
    "\n",
    "    ax_1.grid(False)\n"
   ]
  },
  {
   "cell_type": "markdown",
   "metadata": {},
   "source": [
    "Plotting boxplots across LSOA categories "
   ]
  },
  {
   "cell_type": "code",
   "execution_count": null,
   "metadata": {},
   "outputs": [],
   "source": [
    "#converting lsoa demographic data to strings so we can plot at categories FOR GDF dataframe\n",
    "\n",
    "gdf['Index of Multiple Deprivation (IMD) Decile (where 1 is most deprived 10% of LSOAs)'] = gdf['Index of Multiple Deprivation (IMD) Decile (where 1 is most deprived 10% of LSOAs)'].astype(str)\n",
    "gdf['Income Decile (where 1 is most deprived 10% of LSOAs)'] = gdf['Income Decile (where 1 is most deprived 10% of LSOAs)'].astype(str)\n",
    "gdf['Employment Decile (where 1 is most deprived 10% of LSOAs)'] = gdf['Employment Decile (where 1 is most deprived 10% of LSOAs)'].astype(str)\n",
    "gdf['Education, Skills and Training Decile (where 1 is most deprived 10% of LSOAs)'] = gdf['Education, Skills and Training Decile (where 1 is most deprived 10% of LSOAs)'].astype(str)\n",
    "gdf['Health Deprivation and Disability Decile (where 1 is most deprived 10% of LSOAs)'] = gdf['Health Deprivation and Disability Decile (where 1 is most deprived 10% of LSOAs)'].astype(str)\n",
    "gdf['Crime Decile (where 1 is most deprived 10% of LSOAs)'] = gdf['Crime Decile (where 1 is most deprived 10% of LSOAs)'].astype(str)\n",
    "gdf['Living Environment Decile (where 1 is most deprived 10% of LSOAs)'] = gdf['Living Environment Decile (where 1 is most deprived 10% of LSOAs)'].astype(str)"
   ]
  },
  {
   "cell_type": "code",
   "execution_count": null,
   "metadata": {},
   "outputs": [],
   "source": [
    "##Multiple deprevation locations \n",
    "\n",
    "def make_lsoa_map(variable, title):\n",
    "    \n",
    "    plt.rcParams['figure.dpi'] = 600\n",
    "\n",
    "    ax=gdf.plot(figsize=(10, 10), column=variable, cmap='Paired', legend=True, alpha=1)\n",
    "    ULEZ.plot(ax=ax, edgecolor='k', facecolor='none', linewidth=2, alpha=0.5)\n",
    "    ctx.add_basemap(ax=ax, url=ctx.providers.Stamen.TonerLite)\n",
    "\n",
    "    ax.set_title(title, fontdict={'fontsize': 'x-large', 'fontweight' : 'semibold'})\n",
    "    plt.axis('off')\n",
    "\n",
    "    #plt.savefig('/Users/oliverpaul/Data_Science/EDF/plots/sensor_locations.png', bbox_inches = 'tight', pad_inches = 0.1)\n",
    "    plt.show()\n"
   ]
  },
  {
   "cell_type": "code",
   "execution_count": null,
   "metadata": {},
   "outputs": [],
   "source": [
    "make_lsoa_map('Index of Multiple Deprivation (IMD) Decile (where 1 is most deprived 10% of LSOAs)',\n",
    "             'Sensor locations with respect to LSOA areas for Multiple Deprivation scores')"
   ]
  },
  {
   "cell_type": "code",
   "execution_count": null,
   "metadata": {},
   "outputs": [],
   "source": [
    "box_lsoa('Boxplot comparing PM 2.5 and No2 concentrations across LSOA Deprivation Deciles (2019)', \n",
    "         'Index of Multiple Deprivation (IMD) Decile (where 1 is most deprived 10% of LSOAs)',\n",
    "        ['1','2','3','4','5','6','7','8','9'])"
   ]
  },
  {
   "cell_type": "code",
   "execution_count": null,
   "metadata": {},
   "outputs": [],
   "source": [
    "make_lsoa_map('Income Decile (where 1 is most deprived 10% of LSOAs)',\n",
    "             'Sensor locations with respect to LSOA areas for Income Decile scores')"
   ]
  },
  {
   "cell_type": "code",
   "execution_count": null,
   "metadata": {},
   "outputs": [],
   "source": [
    "box_lsoa('Boxplot comparing PM 2.5 and No2 concentrations across LSOA Deprivation Deciles (2019)', \n",
    "         'Income Decile (where 1 is most deprived 10% of LSOAs)',\n",
    "         ['1','2','3','4','5','6','7','8','9', '10']\n",
    "        )"
   ]
  },
  {
   "cell_type": "code",
   "execution_count": null,
   "metadata": {},
   "outputs": [],
   "source": [
    "make_lsoa_map('Employment Decile (where 1 is most deprived 10% of LSOAs)',\n",
    "             'Sensor locations with respect to LSOA areas for Employment Decile scores')"
   ]
  },
  {
   "cell_type": "code",
   "execution_count": null,
   "metadata": {},
   "outputs": [],
   "source": [
    "box_lsoa('Boxplot comparing PM 2.5 and No2 concentrations across LSOA Deprivation Deciles (2019)', \n",
    "         'Employment Decile (where 1 is most deprived 10% of LSOAs)',\n",
    "        ['1','2','3','4','5','6','7','8','9', '10'])"
   ]
  },
  {
   "cell_type": "code",
   "execution_count": null,
   "metadata": {},
   "outputs": [],
   "source": [
    "make_lsoa_map('Education, Skills and Training Decile (where 1 is most deprived 10% of LSOAs)',\n",
    "             'Sensor locations with respect to LSOA areas for\\nEducation, Skills and Training Decile scores')"
   ]
  },
  {
   "cell_type": "code",
   "execution_count": null,
   "metadata": {},
   "outputs": [],
   "source": [
    "box_lsoa('Boxplot comparing PM 2.5 and No2 concentrations across LSOA Deprivation Deciles (2019)', \n",
    "         'Education, Skills and Training Decile (where 1 is most deprived 10% of LSOAs)',\n",
    "        ['3','4','5','6','7','8','9','10'])"
   ]
  },
  {
   "cell_type": "code",
   "execution_count": null,
   "metadata": {},
   "outputs": [],
   "source": [
    "make_lsoa_map('Health Deprivation and Disability Decile (where 1 is most deprived 10% of LSOAs)',\n",
    "             'Sensor locations with respect to LSOA areas for\\nHealth Deprivation and Disability Decile scores')"
   ]
  },
  {
   "cell_type": "code",
   "execution_count": null,
   "metadata": {},
   "outputs": [],
   "source": [
    "box_lsoa('Boxplot comparing PM 2.5 and No2 concentrations across LSOA Deprivation Deciles (2019)', \n",
    "         'Health Deprivation and Disability Decile (where 1 is most deprived 10% of LSOAs)',\n",
    "        ['1','2','3','4','5','6','7','8','9','10'])"
   ]
  },
  {
   "cell_type": "code",
   "execution_count": null,
   "metadata": {},
   "outputs": [],
   "source": [
    "box_lsoa('Boxplot comparing PM 2.5 and No2 concentrations across LSOA Deprivation Deciles (2019)', \n",
    "         'Crime Decile (where 1 is most deprived 10% of LSOAs)',\n",
    "        ['1','2','3','4','5','6','7','8','9','10'])"
   ]
  },
  {
   "cell_type": "code",
   "execution_count": null,
   "metadata": {},
   "outputs": [],
   "source": [
    "make_lsoa_map('Living Environment Decile (where 1 is most deprived 10% of LSOAs)',\n",
    "             'Sensor locations with respect to LSOA areas for Living Environment Decile scores')"
   ]
  },
  {
   "cell_type": "code",
   "execution_count": null,
   "metadata": {},
   "outputs": [],
   "source": [
    "box_lsoa('Boxplot comparing PM 2.5 and No2 concentrations across LSOA Deprivation Deciles (2019)', \n",
    "         'Living Environment Decile (where 1 is most deprived 10% of LSOAs)',\n",
    "        ['1','2','3','4','5','6','8'])"
   ]
  },
  {
   "cell_type": "code",
   "execution_count": null,
   "metadata": {},
   "outputs": [],
   "source": []
  },
  {
   "cell_type": "code",
   "execution_count": null,
   "metadata": {},
   "outputs": [],
   "source": []
  },
  {
   "cell_type": "code",
   "execution_count": null,
   "metadata": {},
   "outputs": [],
   "source": []
  }
 ],
 "metadata": {
  "kernelspec": {
   "display_name": "Python 3",
   "language": "python",
   "name": "python3"
  },
  "language_info": {
   "codemirror_mode": {
    "name": "ipython",
    "version": 3
   },
   "file_extension": ".py",
   "mimetype": "text/x-python",
   "name": "python",
   "nbconvert_exporter": "python",
   "pygments_lexer": "ipython3",
   "version": "3.7.4"
  }
 },
 "nbformat": 4,
 "nbformat_minor": 4
}
